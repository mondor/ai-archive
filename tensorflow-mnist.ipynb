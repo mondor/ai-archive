{
 "cells": [
  {
   "cell_type": "code",
   "execution_count": 1,
   "metadata": {},
   "outputs": [],
   "source": [
    "import tensorflow as tf\n",
    "from tensorflow.examples.tutorials.mnist import input_data"
   ]
  },
  {
   "cell_type": "code",
   "execution_count": 2,
   "metadata": {},
   "outputs": [
    {
     "name": "stdout",
     "output_type": "stream",
     "text": [
      "Extracting MNIST_data/train-images-idx3-ubyte.gz\n",
      "Extracting MNIST_data/train-labels-idx1-ubyte.gz\n",
      "Extracting MNIST_data/t10k-images-idx3-ubyte.gz\n",
      "Extracting MNIST_data/t10k-labels-idx1-ubyte.gz\n"
     ]
    }
   ],
   "source": [
    "n_labels = 3\n",
    "mnist_features = []\n",
    "mnist_labels = []\n",
    "\n",
    "mnist = input_data.read_data_sets('MNIST_data', one_hot=True)\n",
    "\n",
    "for f, l in zip(*mnist.train.next_batch(10000)):\n",
    "    if l[:n_labels].any():\n",
    "        mnist_features.append(f)\n",
    "        mnist_labels.append(l[:n_labels])\n",
    "        \n",
    "        \n",
    "from sklearn.model_selection import train_test_split\n",
    "\n",
    "\n",
    "x_train, x_test, y_train, y_test = train_test_split(mnist_features, mnist_labels, test_size=0.2, random_state=42)"
   ]
  },
  {
   "cell_type": "code",
   "execution_count": 3,
   "metadata": {},
   "outputs": [],
   "source": [
    "n_features = 784"
   ]
  },
  {
   "cell_type": "code",
   "execution_count": 4,
   "metadata": {},
   "outputs": [],
   "source": [
    "features = tf.placeholder(tf.float32)\n",
    "labels = tf.placeholder(tf.float32)\n",
    "learning_rate = tf.placeholder(tf.float32)\n",
    "\n",
    "w = tf.Variable(tf.truncated_normal((n_features, n_labels)))\n",
    "b = tf.Variable(tf.zeros(n_labels))\n",
    "logits = tf.add(tf.matmul(features, w), b)\n",
    "init = tf.global_variables_initializer()\n",
    "prediction = tf.nn.softmax(logits)\n",
    "cross_entropy = -tf.reduce_sum(labels * tf.log(prediction), reduction_indices=1)\n",
    "loss = tf.reduce_mean(cross_entropy)\n",
    "\n",
    "\n",
    "optimizer = tf.train.GradientDescentOptimizer(learning_rate=learning_rate).minimize(loss)\n",
    "\n",
    "is_correct_prediction = tf.equal(tf.argmax(prediction,1), tf.argmax(labels, 1))\n",
    "accuracy = tf.reduce_mean(tf.cast(is_correct_prediction, tf.float32))\n",
    "\n",
    "    "
   ]
  },
  {
   "cell_type": "code",
   "execution_count": 10,
   "metadata": {},
   "outputs": [
    {
     "name": "stderr",
     "output_type": "stream",
     "text": [
      "\n",
      "Epoch  1/100:   0%|          | 0/20 [00:00<?, ?batches/s]\u001b[A\n",
      "Epoch  1/100: 100%|██████████| 20/20 [00:00<00:00, 390.98batches/s]\u001b[A\n",
      "Epoch  2/100:   0%|          | 0/20 [00:00<?, ?batches/s]\u001b[A\n",
      "Epoch  2/100: 100%|██████████| 20/20 [00:00<00:00, 398.45batches/s]\u001b[A\n",
      "Epoch  3/100:   0%|          | 0/20 [00:00<?, ?batches/s]\u001b[A\n",
      "Epoch  3/100: 100%|██████████| 20/20 [00:00<00:00, 326.71batches/s]\u001b[A\n",
      "Epoch  4/100:   0%|          | 0/20 [00:00<?, ?batches/s]\u001b[A"
     ]
    },
    {
     "name": "stdout",
     "output_type": "stream",
     "text": [
      "0.642395\n",
      "0.661812\n",
      "0.674757\n",
      "0.694175\n"
     ]
    },
    {
     "name": "stderr",
     "output_type": "stream",
     "text": [
      "\n",
      "Epoch  4/100: 100%|██████████| 20/20 [00:00<00:00, 301.77batches/s]\u001b[A\n",
      "Epoch  5/100:   0%|          | 0/20 [00:00<?, ?batches/s]\u001b[A\n",
      "Epoch  5/100: 100%|██████████| 20/20 [00:00<00:00, 371.31batches/s]\u001b[A\n",
      "Epoch  6/100:   0%|          | 0/20 [00:00<?, ?batches/s]\u001b[A\n",
      "Epoch  6/100: 100%|██████████| 20/20 [00:00<00:00, 320.17batches/s]\u001b[A\n",
      "Epoch  7/100:   0%|          | 0/20 [00:00<?, ?batches/s]\u001b[A\n",
      "Epoch  7/100: 100%|██████████| 20/20 [00:00<00:00, 376.98batches/s]\u001b[A\n",
      "Epoch  8/100:   0%|          | 0/20 [00:00<?, ?batches/s]\u001b[A"
     ]
    },
    {
     "name": "stdout",
     "output_type": "stream",
     "text": [
      "0.716828\n",
      "0.739482\n",
      "0.749191\n",
      "0.752427\n"
     ]
    },
    {
     "name": "stderr",
     "output_type": "stream",
     "text": [
      "\n",
      "Epoch  8/100: 100%|██████████| 20/20 [00:00<00:00, 378.69batches/s]\u001b[A\n",
      "Epoch  9/100:   0%|          | 0/20 [00:00<?, ?batches/s]\u001b[A\n",
      "Epoch  9/100: 100%|██████████| 20/20 [00:00<00:00, 368.58batches/s]\u001b[A\n",
      "Epoch 10/100:   0%|          | 0/20 [00:00<?, ?batches/s]\u001b[A\n",
      "Epoch 10/100: 100%|██████████| 20/20 [00:00<00:00, 338.45batches/s]\u001b[A\n",
      "Epoch 11/100:   0%|          | 0/20 [00:00<?, ?batches/s]\u001b[A\n",
      "Epoch 11/100: 100%|██████████| 20/20 [00:00<00:00, 244.73batches/s]\u001b[A\n",
      "Epoch 12/100:   0%|          | 0/20 [00:00<?, ?batches/s]"
     ]
    },
    {
     "name": "stdout",
     "output_type": "stream",
     "text": [
      "0.762136\n",
      "0.773463\n",
      "0.778317\n"
     ]
    },
    {
     "name": "stderr",
     "output_type": "stream",
     "text": [
      "\u001b[A\n",
      "Epoch 12/100: 100%|██████████| 20/20 [00:00<00:00, 285.45batches/s]\u001b[A\n",
      "Epoch 13/100:   0%|          | 0/20 [00:00<?, ?batches/s]\u001b[A\n",
      "Epoch 13/100: 100%|██████████| 20/20 [00:00<00:00, 304.85batches/s]\u001b[A\n",
      "Epoch 14/100:   0%|          | 0/20 [00:00<?, ?batches/s]\u001b[A"
     ]
    },
    {
     "name": "stdout",
     "output_type": "stream",
     "text": [
      "0.789644\n",
      "0.802589\n",
      "0.805825\n"
     ]
    },
    {
     "name": "stderr",
     "output_type": "stream",
     "text": [
      "\n",
      "Epoch 14/100: 100%|██████████| 20/20 [00:00<00:00, 271.60batches/s]\u001b[A\n",
      "Epoch 15/100:   0%|          | 0/20 [00:00<?, ?batches/s]\u001b[A\n",
      "Epoch 15/100: 100%|██████████| 20/20 [00:00<00:00, 356.76batches/s]\u001b[A\n",
      "Epoch 16/100:   0%|          | 0/20 [00:00<?, ?batches/s]\u001b[A\n",
      "Epoch 16/100: 100%|██████████| 20/20 [00:00<00:00, 367.38batches/s]\u001b[A\n",
      "Epoch 17/100:   0%|          | 0/20 [00:00<?, ?batches/s]\u001b[A\n",
      "Epoch 17/100: 100%|██████████| 20/20 [00:00<00:00, 347.65batches/s]\u001b[A\n",
      "Epoch 18/100:   0%|          | 0/20 [00:00<?, ?batches/s]\u001b[A"
     ]
    },
    {
     "name": "stdout",
     "output_type": "stream",
     "text": [
      "0.813916\n",
      "0.826861\n",
      "0.833333\n",
      "0.839806\n"
     ]
    },
    {
     "name": "stderr",
     "output_type": "stream",
     "text": [
      "\n",
      "Epoch 18/100: 100%|██████████| 20/20 [00:00<00:00, 343.11batches/s]\u001b[A\n",
      "Epoch 19/100:   0%|          | 0/20 [00:00<?, ?batches/s]\u001b[A\n",
      "Epoch 19/100: 100%|██████████| 20/20 [00:00<00:00, 295.75batches/s]\u001b[A\n",
      "Epoch 20/100:   0%|          | 0/20 [00:00<?, ?batches/s]\u001b[A\n",
      "Epoch 20/100: 100%|██████████| 20/20 [00:00<00:00, 303.04batches/s]\u001b[A\n",
      "Epoch 21/100:   0%|          | 0/20 [00:00<?, ?batches/s]\u001b[A"
     ]
    },
    {
     "name": "stdout",
     "output_type": "stream",
     "text": [
      "0.843042\n",
      "0.84466\n",
      "0.84466\n"
     ]
    },
    {
     "name": "stderr",
     "output_type": "stream",
     "text": [
      "\n",
      "Epoch 21/100: 100%|██████████| 20/20 [00:00<00:00, 232.15batches/s]\u001b[A\n",
      "Epoch 22/100:   0%|          | 0/20 [00:00<?, ?batches/s]\u001b[A\n",
      "Epoch 22/100: 100%|██████████| 20/20 [00:00<00:00, 295.57batches/s]\u001b[A\n",
      "Epoch 23/100:   0%|          | 0/20 [00:00<?, ?batches/s]\u001b[A\n",
      "Epoch 23/100: 100%|██████████| 20/20 [00:00<00:00, 376.74batches/s]\u001b[A\n",
      "Epoch 24/100:   0%|          | 0/20 [00:00<?, ?batches/s]\u001b[A\n",
      "Epoch 24/100: 100%|██████████| 20/20 [00:00<00:00, 382.24batches/s]\u001b[A\n",
      "Epoch 25/100:   0%|          | 0/20 [00:00<?, ?batches/s]\u001b[A"
     ]
    },
    {
     "name": "stdout",
     "output_type": "stream",
     "text": [
      "0.846278\n",
      "0.847896\n",
      "0.849515\n",
      "0.849515\n"
     ]
    },
    {
     "name": "stderr",
     "output_type": "stream",
     "text": [
      "\n",
      "Epoch 25/100: 100%|██████████| 20/20 [00:00<00:00, 336.30batches/s]\u001b[A\n",
      "Epoch 26/100:   0%|          | 0/20 [00:00<?, ?batches/s]\u001b[A\n",
      "Epoch 26/100: 100%|██████████| 20/20 [00:00<00:00, 416.83batches/s]\u001b[A\n",
      "Epoch 27/100:   0%|          | 0/20 [00:00<?, ?batches/s]\u001b[A\n",
      "Epoch 27/100: 100%|██████████| 20/20 [00:00<00:00, 405.61batches/s]\u001b[A\n",
      "Epoch 28/100:   0%|          | 0/20 [00:00<?, ?batches/s]\u001b[A\n",
      "Epoch 28/100: 100%|██████████| 20/20 [00:00<00:00, 330.52batches/s]\u001b[A\n",
      "Epoch 29/100:   0%|          | 0/20 [00:00<?, ?batches/s]\u001b[A"
     ]
    },
    {
     "name": "stdout",
     "output_type": "stream",
     "text": [
      "0.849515\n",
      "0.855987\n",
      "0.857605\n",
      "0.859223\n"
     ]
    },
    {
     "name": "stderr",
     "output_type": "stream",
     "text": [
      "\n",
      "Epoch 29/100: 100%|██████████| 20/20 [00:00<00:00, 300.15batches/s]\u001b[A\n",
      "Epoch 30/100:   0%|          | 0/20 [00:00<?, ?batches/s]\u001b[A\n",
      "Epoch 30/100: 100%|██████████| 20/20 [00:00<00:00, 313.37batches/s]\u001b[A\n",
      "Epoch 31/100:   0%|          | 0/20 [00:00<?, ?batches/s]\u001b[A\n",
      "Epoch 31/100: 100%|██████████| 20/20 [00:00<00:00, 295.08batches/s]\u001b[A\n",
      "Epoch 32/100:   0%|          | 0/20 [00:00<?, ?batches/s]\u001b[A"
     ]
    },
    {
     "name": "stdout",
     "output_type": "stream",
     "text": [
      "0.864078\n",
      "0.864078\n",
      "0.865696\n"
     ]
    },
    {
     "name": "stderr",
     "output_type": "stream",
     "text": [
      "\n",
      "Epoch 32/100: 100%|██████████| 20/20 [00:00<00:00, 292.01batches/s]\u001b[A\n",
      "Epoch 33/100:   0%|          | 0/20 [00:00<?, ?batches/s]\u001b[A\n",
      "Epoch 33/100: 100%|██████████| 20/20 [00:00<00:00, 332.22batches/s]\u001b[A\n",
      "Epoch 34/100:   0%|          | 0/20 [00:00<?, ?batches/s]\u001b[A\n",
      "Epoch 34/100: 100%|██████████| 20/20 [00:00<00:00, 345.72batches/s]\u001b[A\n",
      "Epoch 35/100:   0%|          | 0/20 [00:00<?, ?batches/s]\u001b[A\n",
      "Epoch 35/100: 100%|██████████| 20/20 [00:00<00:00, 312.27batches/s]\u001b[A\n",
      "Epoch 36/100:   0%|          | 0/20 [00:00<?, ?batches/s]\u001b[A"
     ]
    },
    {
     "name": "stdout",
     "output_type": "stream",
     "text": [
      "0.87055\n",
      "0.87055\n",
      "0.87055\n",
      "0.872168\n"
     ]
    },
    {
     "name": "stderr",
     "output_type": "stream",
     "text": [
      "\n",
      "Epoch 36/100: 100%|██████████| 20/20 [00:00<00:00, 438.00batches/s]\u001b[A\n",
      "Epoch 37/100:   0%|          | 0/20 [00:00<?, ?batches/s]\u001b[A\n",
      "Epoch 37/100: 100%|██████████| 20/20 [00:00<00:00, 432.22batches/s]\u001b[A\n",
      "Epoch 38/100:   0%|          | 0/20 [00:00<?, ?batches/s]\u001b[A\n",
      "Epoch 38/100: 100%|██████████| 20/20 [00:00<00:00, 335.56batches/s]\u001b[A\n",
      "Epoch 39/100:   0%|          | 0/20 [00:00<?, ?batches/s]\u001b[A\n",
      "Epoch 39/100: 100%|██████████| 20/20 [00:00<00:00, 292.96batches/s]\u001b[A\n",
      "Epoch 40/100:   0%|          | 0/20 [00:00<?, ?batches/s]\u001b[A"
     ]
    },
    {
     "name": "stdout",
     "output_type": "stream",
     "text": [
      "0.875405\n",
      "0.878641\n",
      "0.878641\n"
     ]
    },
    {
     "name": "stderr",
     "output_type": "stream",
     "text": [
      "\n",
      "Epoch 40/100: 100%|██████████| 20/20 [00:00<00:00, 272.90batches/s]\u001b[A\n",
      "Epoch 41/100:   0%|          | 0/20 [00:00<?, ?batches/s]\u001b[A\n",
      "Epoch 41/100: 100%|██████████| 20/20 [00:00<00:00, 307.58batches/s]\u001b[A\n",
      "Epoch 42/100:   0%|          | 0/20 [00:00<?, ?batches/s]\u001b[A"
     ]
    },
    {
     "name": "stdout",
     "output_type": "stream",
     "text": [
      "0.878641\n",
      "0.878641\n",
      "0.880259\n"
     ]
    },
    {
     "name": "stderr",
     "output_type": "stream",
     "text": [
      "\n",
      "Epoch 42/100: 100%|██████████| 20/20 [00:00<00:00, 309.47batches/s]\u001b[A\n",
      "Epoch 43/100:   0%|          | 0/20 [00:00<?, ?batches/s]\u001b[A\n",
      "Epoch 43/100: 100%|██████████| 20/20 [00:00<00:00, 371.49batches/s]\u001b[A\n",
      "Epoch 44/100:   0%|          | 0/20 [00:00<?, ?batches/s]\u001b[A\n",
      "Epoch 44/100: 100%|██████████| 20/20 [00:00<00:00, 295.56batches/s]\u001b[A\n",
      "Epoch 45/100:   0%|          | 0/20 [00:00<?, ?batches/s]\u001b[A\n",
      "Epoch 45/100: 100%|██████████| 20/20 [00:00<00:00, 293.77batches/s]\u001b[A\n"
     ]
    },
    {
     "name": "stdout",
     "output_type": "stream",
     "text": [
      "0.883495\n",
      "0.885113\n",
      "0.885113\n"
     ]
    },
    {
     "name": "stderr",
     "output_type": "stream",
     "text": [
      "Epoch 46/100:   0%|          | 0/20 [00:00<?, ?batches/s]\u001b[A\n",
      "Epoch 46/100: 100%|██████████| 20/20 [00:00<00:00, 303.35batches/s]\u001b[A\n",
      "Epoch 47/100:   0%|          | 0/20 [00:00<?, ?batches/s]\u001b[A\n",
      "Epoch 47/100: 100%|██████████| 20/20 [00:00<00:00, 260.35batches/s]\u001b[A\n",
      "Epoch 48/100:   0%|          | 0/20 [00:00<?, ?batches/s]\u001b[A"
     ]
    },
    {
     "name": "stdout",
     "output_type": "stream",
     "text": [
      "0.885113\n",
      "0.88835\n",
      "0.88835\n"
     ]
    },
    {
     "name": "stderr",
     "output_type": "stream",
     "text": [
      "\n",
      "Epoch 48/100: 100%|██████████| 20/20 [00:00<00:00, 318.08batches/s]\u001b[A\n",
      "Epoch 49/100:   0%|          | 0/20 [00:00<?, ?batches/s]\u001b[A\n",
      "Epoch 49/100: 100%|██████████| 20/20 [00:00<00:00, 339.04batches/s]\u001b[A\n",
      "Epoch 50/100:   0%|          | 0/20 [00:00<?, ?batches/s]\u001b[A\n",
      "Epoch 50/100: 100%|██████████| 20/20 [00:00<00:00, 321.42batches/s]\u001b[A\n",
      "Epoch 51/100:   0%|          | 0/20 [00:00<?, ?batches/s]\u001b[A\n",
      "Epoch 51/100: 100%|██████████| 20/20 [00:00<00:00, 312.86batches/s]\u001b[A\n",
      "Epoch 52/100:   0%|          | 0/20 [00:00<?, ?batches/s]\u001b[A"
     ]
    },
    {
     "name": "stdout",
     "output_type": "stream",
     "text": [
      "0.889968\n",
      "0.889968\n",
      "0.889968\n"
     ]
    },
    {
     "name": "stderr",
     "output_type": "stream",
     "text": [
      "\n",
      "Epoch 52/100: 100%|██████████| 20/20 [00:00<00:00, 288.55batches/s]\u001b[A\n",
      "Epoch 53/100:   0%|          | 0/20 [00:00<?, ?batches/s]\u001b[A\n",
      "Epoch 53/100: 100%|██████████| 20/20 [00:00<00:00, 299.53batches/s]\u001b[A\n",
      "Epoch 54/100:   0%|          | 0/20 [00:00<?, ?batches/s]\u001b[A"
     ]
    },
    {
     "name": "stdout",
     "output_type": "stream",
     "text": [
      "0.893204\n",
      "0.894822\n",
      "0.894822\n"
     ]
    },
    {
     "name": "stderr",
     "output_type": "stream",
     "text": [
      "\n",
      "Epoch 54/100: 100%|██████████| 20/20 [00:00<00:00, 298.63batches/s]\u001b[A\n",
      "Epoch 55/100:   0%|          | 0/20 [00:00<?, ?batches/s]\u001b[A\n",
      "Epoch 55/100: 100%|██████████| 20/20 [00:00<00:00, 296.79batches/s]\u001b[A\n",
      "Epoch 56/100:   0%|          | 0/20 [00:00<?, ?batches/s]\u001b[A\n",
      "Epoch 56/100: 100%|██████████| 20/20 [00:00<00:00, 304.63batches/s]\u001b[A\n",
      "Epoch 57/100:   0%|          | 0/20 [00:00<?, ?batches/s]\u001b[A\n"
     ]
    },
    {
     "name": "stdout",
     "output_type": "stream",
     "text": [
      "0.894822\n",
      "0.894822\n",
      "0.894822\n"
     ]
    },
    {
     "name": "stderr",
     "output_type": "stream",
     "text": [
      "Epoch 57/100: 100%|██████████| 20/20 [00:00<00:00, 309.15batches/s]\u001b[A\n",
      "Epoch 58/100:   0%|          | 0/20 [00:00<?, ?batches/s]\u001b[A\n",
      "Epoch 58/100: 100%|██████████| 20/20 [00:00<00:00, 309.07batches/s]\u001b[A\n",
      "Epoch 59/100:   0%|          | 0/20 [00:00<?, ?batches/s]\u001b[A\n",
      "Epoch 59/100: 100%|██████████| 20/20 [00:00<00:00, 365.14batches/s]\u001b[A\n",
      "Epoch 60/100:   0%|          | 0/20 [00:00<?, ?batches/s]\u001b[A\n",
      "Epoch 60/100: 100%|██████████| 20/20 [00:00<00:00, 394.97batches/s]\u001b[A\n",
      "Epoch 61/100:   0%|          | 0/20 [00:00<?, ?batches/s]\u001b[A"
     ]
    },
    {
     "name": "stdout",
     "output_type": "stream",
     "text": [
      "0.894822\n",
      "0.894822\n",
      "0.89644\n",
      "0.89644\n"
     ]
    },
    {
     "name": "stderr",
     "output_type": "stream",
     "text": [
      "\n",
      "Epoch 61/100: 100%|██████████| 20/20 [00:00<00:00, 333.52batches/s]\u001b[A\n",
      "Epoch 62/100:   0%|          | 0/20 [00:00<?, ?batches/s]\u001b[A\n",
      "Epoch 62/100: 100%|██████████| 20/20 [00:00<00:00, 318.69batches/s]\u001b[A\n",
      "Epoch 63/100:   0%|          | 0/20 [00:00<?, ?batches/s]\u001b[A\n",
      "Epoch 63/100: 100%|██████████| 20/20 [00:00<00:00, 314.86batches/s]\u001b[A\n",
      "Epoch 64/100:   0%|          | 0/20 [00:00<?, ?batches/s]\u001b[A\n",
      "Epoch 64/100: 100%|██████████| 20/20 [00:00<00:00, 402.38batches/s]\u001b[A\n",
      "Epoch 65/100:   0%|          | 0/20 [00:00<?, ?batches/s]\u001b[A"
     ]
    },
    {
     "name": "stdout",
     "output_type": "stream",
     "text": [
      "0.894822\n",
      "0.89644\n",
      "0.89644\n",
      "0.89644\n"
     ]
    },
    {
     "name": "stderr",
     "output_type": "stream",
     "text": [
      "\n",
      "Epoch 65/100: 100%|██████████| 20/20 [00:00<00:00, 360.77batches/s]\u001b[A\n",
      "Epoch 66/100:   0%|          | 0/20 [00:00<?, ?batches/s]\u001b[A\n",
      "Epoch 66/100: 100%|██████████| 20/20 [00:00<00:00, 299.10batches/s]\u001b[A\n",
      "Epoch 67/100:   0%|          | 0/20 [00:00<?, ?batches/s]\u001b[A\n",
      "Epoch 67/100: 100%|██████████| 20/20 [00:00<00:00, 308.52batches/s]\u001b[A\n",
      "Epoch 68/100:   0%|          | 0/20 [00:00<?, ?batches/s]\u001b[A\n",
      "Epoch 68/100: 100%|██████████| 20/20 [00:00<00:00, 306.70batches/s]"
     ]
    },
    {
     "name": "stdout",
     "output_type": "stream",
     "text": [
      "0.89644\n",
      "0.89644\n",
      "0.89644\n"
     ]
    },
    {
     "name": "stderr",
     "output_type": "stream",
     "text": [
      "\u001b[A\n",
      "Epoch 69/100:   0%|          | 0/20 [00:00<?, ?batches/s]\u001b[A\n",
      "Epoch 69/100: 100%|██████████| 20/20 [00:00<00:00, 356.28batches/s]\u001b[A\n",
      "Epoch 70/100:   0%|          | 0/20 [00:00<?, ?batches/s]\u001b[A\n",
      "Epoch 70/100: 100%|██████████| 20/20 [00:00<00:00, 387.18batches/s]\u001b[A\n",
      "Epoch 71/100:   0%|          | 0/20 [00:00<?, ?batches/s]\u001b[A\n",
      "Epoch 71/100: 100%|██████████| 20/20 [00:00<00:00, 384.39batches/s]\u001b[A\n",
      "Epoch 72/100:   0%|          | 0/20 [00:00<?, ?batches/s]\u001b[A"
     ]
    },
    {
     "name": "stdout",
     "output_type": "stream",
     "text": [
      "0.898058\n",
      "0.898058\n",
      "0.898058\n",
      "0.901294\n"
     ]
    },
    {
     "name": "stderr",
     "output_type": "stream",
     "text": [
      "\n",
      "Epoch 72/100: 100%|██████████| 20/20 [00:00<00:00, 365.26batches/s]\u001b[A\n",
      "Epoch 73/100:   0%|          | 0/20 [00:00<?, ?batches/s]\u001b[A\n",
      "Epoch 73/100: 100%|██████████| 20/20 [00:00<00:00, 413.45batches/s]\u001b[A\n",
      "Epoch 74/100:   0%|          | 0/20 [00:00<?, ?batches/s]\u001b[A\n",
      "Epoch 74/100: 100%|██████████| 20/20 [00:00<00:00, 399.27batches/s]\u001b[A\n",
      "Epoch 75/100:   0%|          | 0/20 [00:00<?, ?batches/s]\u001b[A\n",
      "Epoch 75/100: 100%|██████████| 20/20 [00:00<00:00, 398.37batches/s]\u001b[A\n",
      "Epoch 76/100:   0%|          | 0/20 [00:00<?, ?batches/s]\u001b[A"
     ]
    },
    {
     "name": "stdout",
     "output_type": "stream",
     "text": [
      "0.902913\n",
      "0.902913\n",
      "0.904531\n",
      "0.906149\n"
     ]
    },
    {
     "name": "stderr",
     "output_type": "stream",
     "text": [
      "\n",
      "Epoch 76/100: 100%|██████████| 20/20 [00:00<00:00, 335.37batches/s]\u001b[A\n",
      "Epoch 77/100:   0%|          | 0/20 [00:00<?, ?batches/s]\u001b[A\n",
      "Epoch 77/100: 100%|██████████| 20/20 [00:00<00:00, 264.83batches/s]\u001b[A\n",
      "Epoch 78/100:   0%|          | 0/20 [00:00<?, ?batches/s]\u001b[A\n",
      "Epoch 78/100: 100%|██████████| 20/20 [00:00<00:00, 382.93batches/s]\u001b[A\n",
      "Epoch 79/100:   0%|          | 0/20 [00:00<?, ?batches/s]\u001b[A\n",
      "Epoch 79/100: 100%|██████████| 20/20 [00:00<00:00, 322.69batches/s]\u001b[A\n",
      "Epoch 80/100:   0%|          | 0/20 [00:00<?, ?batches/s]\u001b[A"
     ]
    },
    {
     "name": "stdout",
     "output_type": "stream",
     "text": [
      "0.907767\n",
      "0.907767\n",
      "0.907767\n"
     ]
    },
    {
     "name": "stderr",
     "output_type": "stream",
     "text": [
      "\n",
      "Epoch 80/100: 100%|██████████| 20/20 [00:00<00:00, 298.15batches/s]\u001b[A\n",
      "Epoch 81/100:   0%|          | 0/20 [00:00<?, ?batches/s]\u001b[A\n",
      "Epoch 81/100: 100%|██████████| 20/20 [00:00<00:00, 329.94batches/s]\u001b[A\n",
      "Epoch 82/100:   0%|          | 0/20 [00:00<?, ?batches/s]\u001b[A\n",
      "Epoch 82/100: 100%|██████████| 20/20 [00:00<00:00, 331.07batches/s]\u001b[A\n",
      "Epoch 83/100:   0%|          | 0/20 [00:00<?, ?batches/s]"
     ]
    },
    {
     "name": "stdout",
     "output_type": "stream",
     "text": [
      "0.909385\n",
      "0.909385\n",
      "0.911003\n"
     ]
    },
    {
     "name": "stderr",
     "output_type": "stream",
     "text": [
      "\u001b[A\n",
      "Epoch 83/100: 100%|██████████| 20/20 [00:00<00:00, 388.64batches/s]\u001b[A\n",
      "Epoch 84/100:   0%|          | 0/20 [00:00<?, ?batches/s]\u001b[A\n",
      "Epoch 84/100: 100%|██████████| 20/20 [00:00<00:00, 336.11batches/s]\u001b[A\n",
      "Epoch 85/100:   0%|          | 0/20 [00:00<?, ?batches/s]\u001b[A\n",
      "Epoch 85/100: 100%|██████████| 20/20 [00:00<00:00, 368.52batches/s]\u001b[A\n",
      "Epoch 86/100:   0%|          | 0/20 [00:00<?, ?batches/s]\u001b[A"
     ]
    },
    {
     "name": "stdout",
     "output_type": "stream",
     "text": [
      "0.911003\n",
      "0.911003\n",
      "0.912621\n",
      "0.912621\n"
     ]
    },
    {
     "name": "stderr",
     "output_type": "stream",
     "text": [
      "\n",
      "Epoch 86/100: 100%|██████████| 20/20 [00:00<00:00, 283.74batches/s]\u001b[A\n",
      "Epoch 87/100:   0%|          | 0/20 [00:00<?, ?batches/s]\u001b[A\n",
      "Epoch 87/100: 100%|██████████| 20/20 [00:00<00:00, 287.10batches/s]\u001b[A\n",
      "Epoch 88/100:   0%|          | 0/20 [00:00<?, ?batches/s]\u001b[A\n",
      "Epoch 88/100: 100%|██████████| 20/20 [00:00<00:00, 370.70batches/s]\u001b[A\n",
      "Epoch 89/100:   0%|          | 0/20 [00:00<?, ?batches/s]\u001b[A\n",
      "Epoch 89/100: 100%|██████████| 20/20 [00:00<00:00, 328.13batches/s]\u001b[A\n",
      "Epoch 90/100:   0%|          | 0/20 [00:00<?, ?batches/s]\u001b[A"
     ]
    },
    {
     "name": "stdout",
     "output_type": "stream",
     "text": [
      "0.912621\n",
      "0.912621\n",
      "0.912621\n",
      "0.914239\n"
     ]
    },
    {
     "name": "stderr",
     "output_type": "stream",
     "text": [
      "\n",
      "Epoch 90/100: 100%|██████████| 20/20 [00:00<00:00, 375.14batches/s]\u001b[A\n",
      "Epoch 91/100:   0%|          | 0/20 [00:00<?, ?batches/s]\u001b[A\n",
      "Epoch 91/100: 100%|██████████| 20/20 [00:00<00:00, 396.50batches/s]\u001b[A\n",
      "Epoch 92/100:   0%|          | 0/20 [00:00<?, ?batches/s]\u001b[A\n",
      "Epoch 92/100: 100%|██████████| 20/20 [00:00<00:00, 387.39batches/s]\u001b[A\n",
      "Epoch 93/100:   0%|          | 0/20 [00:00<?, ?batches/s]\u001b[A\n",
      "Epoch 93/100: 100%|██████████| 20/20 [00:00<00:00, 394.20batches/s]\u001b[A\n",
      "Epoch 94/100:   0%|          | 0/20 [00:00<?, ?batches/s]\u001b[A"
     ]
    },
    {
     "name": "stdout",
     "output_type": "stream",
     "text": [
      "0.914239\n",
      "0.914239\n",
      "0.915858\n",
      "0.915858\n"
     ]
    },
    {
     "name": "stderr",
     "output_type": "stream",
     "text": [
      "\n",
      "Epoch 94/100: 100%|██████████| 20/20 [00:00<00:00, 377.46batches/s]\u001b[A\n",
      "Epoch 95/100:   0%|          | 0/20 [00:00<?, ?batches/s]\u001b[A\n",
      "Epoch 95/100: 100%|██████████| 20/20 [00:00<00:00, 408.34batches/s]\u001b[A\n",
      "Epoch 96/100:   0%|          | 0/20 [00:00<?, ?batches/s]\u001b[A\n",
      "Epoch 96/100: 100%|██████████| 20/20 [00:00<00:00, 385.65batches/s]\u001b[A\n",
      "Epoch 97/100:   0%|          | 0/20 [00:00<?, ?batches/s]\u001b[A\n",
      "Epoch 97/100: 100%|██████████| 20/20 [00:00<00:00, 354.37batches/s]\u001b[A\n",
      "Epoch 98/100:   0%|          | 0/20 [00:00<?, ?batches/s]\u001b[A"
     ]
    },
    {
     "name": "stdout",
     "output_type": "stream",
     "text": [
      "0.915858\n",
      "0.915858\n",
      "0.915858\n",
      "0.915858\n"
     ]
    },
    {
     "name": "stderr",
     "output_type": "stream",
     "text": [
      "\n",
      "Epoch 98/100: 100%|██████████| 20/20 [00:00<00:00, 396.26batches/s]\u001b[A\n",
      "Epoch 99/100:   0%|          | 0/20 [00:00<?, ?batches/s]\u001b[A\n",
      "Epoch 99/100: 100%|██████████| 20/20 [00:00<00:00, 399.09batches/s]\u001b[A\n",
      "Epoch 100/100:   0%|          | 0/20 [00:00<?, ?batches/s]\u001b[A\n",
      "Epoch 100/100: 100%|██████████| 20/20 [00:00<00:00, 338.14batches/s]\u001b[A"
     ]
    },
    {
     "name": "stdout",
     "output_type": "stream",
     "text": [
      "0.917476\n",
      "0.917476\n"
     ]
    }
   ],
   "source": [
    "import math\n",
    "from tqdm import tqdm\n",
    "\n",
    "epochs = 100\n",
    "batch_size = 128\n",
    "    \n",
    "with tf.Session() as session:\n",
    "    session.run(init)\n",
    "    batch_count = int(math.ceil(len(x_train)/batch_size))\n",
    "    \n",
    "    for epoch_i in range(epochs):\n",
    "        batches_pbar = tqdm(range(batch_count), desc='Epoch {:>2}/{}'.format(epoch_i+1, epochs), unit='batches')\n",
    "        \n",
    "        for batch_i in batches_pbar:\n",
    "            batch_start = batch_i * batch_size\n",
    "            batch_end = batch_start + batch_size\n",
    "            batch_features = x_train[batch_start:batch_end]\n",
    "            batch_labels = y_train[batch_start:batch_end]\n",
    "            feed = {\n",
    "                features: batch_features, \n",
    "                labels: batch_labels,\n",
    "                learning_rate: 0.01\n",
    "                \n",
    "            }\n",
    "            _, l = session.run([optimizer, loss], feed_dict=feed)\n",
    "            \n",
    "            if not batch_i % 50:\n",
    "                output = session.run(accuracy, feed_dict={\n",
    "                    features: x_test,\n",
    "                    labels: y_test})\n",
    "                print(output)\n",
    "        \n",
    "        \n",
    "        \n",
    "        "
   ]
  }
 ],
 "metadata": {
  "kernelspec": {
   "display_name": "Python [default]",
   "language": "python",
   "name": "python3"
  },
  "language_info": {
   "codemirror_mode": {
    "name": "ipython",
    "version": 3
   },
   "file_extension": ".py",
   "mimetype": "text/x-python",
   "name": "python",
   "nbconvert_exporter": "python",
   "pygments_lexer": "ipython3",
   "version": "3.6.4"
  }
 },
 "nbformat": 4,
 "nbformat_minor": 2
}
