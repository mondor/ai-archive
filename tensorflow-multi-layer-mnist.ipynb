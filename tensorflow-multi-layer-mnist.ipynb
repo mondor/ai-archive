{
 "cells": [
  {
   "cell_type": "code",
   "execution_count": 1,
   "metadata": {},
   "outputs": [
    {
     "name": "stdout",
     "output_type": "stream",
     "text": [
      "Extracting MNIST_data/train-images-idx3-ubyte.gz\n",
      "Extracting MNIST_data/train-labels-idx1-ubyte.gz\n",
      "Extracting MNIST_data/t10k-images-idx3-ubyte.gz\n",
      "Extracting MNIST_data/t10k-labels-idx1-ubyte.gz\n"
     ]
    }
   ],
   "source": [
    "import tensorflow as tf\n",
    "from tensorflow.examples.tutorials.mnist import input_data\n",
    "\n",
    "mnist = input_data.read_data_sets('MNIST_data', one_hot=True, reshape=False)\n"
   ]
  },
  {
   "cell_type": "raw",
   "metadata": {},
   "source": []
  },
  {
   "cell_type": "code",
   "execution_count": 4,
   "metadata": {},
   "outputs": [],
   "source": [
    "learning_rate = 0.001\n",
    "epochs = 20\n",
    "batch_size = 128\n",
    "display_step = 1\n",
    "n_input = 784\n",
    "n_classes = 10\n",
    "n_hidden_layer = 256\n",
    "\n",
    "weights = {\n",
    "    'hidden_layer': tf.Variable(tf.random_normal([n_input, n_hidden_layer])),\n",
    "    'out': tf.Variable(tf.random_normal([n_hidden_layer, n_classes]))\n",
    "}\n",
    "\n",
    "biases = {\n",
    "    'hidden_layer': tf.Variable(tf.random_normal([n_hidden_layer])),\n",
    "    'out': tf.Variable(tf.random_normal([n_classes]))\n",
    "}\n",
    "\n",
    "x = tf.placeholder('float', [None, 28,28, 1])\n",
    "y = tf.placeholder('float', [None, n_classes])\n",
    "x_flat = tf.reshape(x, [-1, n_input])"
   ]
  },
  {
   "cell_type": "code",
   "execution_count": 5,
   "metadata": {},
   "outputs": [],
   "source": [
    "hidden_layer = tf.nn.relu(\n",
    "    tf.add(tf.matmul(x_flat, weights['hidden_layer']), \n",
    "           biases['hidden_layer']))\n",
    "logits = tf.add(tf.matmul(hidden_layer, weights['out']), biases['out'])"
   ]
  },
  {
   "cell_type": "code",
   "execution_count": 7,
   "metadata": {},
   "outputs": [],
   "source": [
    "cost = tf.reduce_mean(tf.nn.softmax_cross_entropy_with_logits(logits=logits, labels=y))\n",
    "optimizer = tf.train.GradientDescentOptimizer(learning_rate=learning_rate).minimize(cost)"
   ]
  },
  {
   "cell_type": "code",
   "execution_count": 11,
   "metadata": {},
   "outputs": [],
   "source": [
    "init = tf.global_variables_initializer()\n",
    "correct_prediction = tf.equal(tf.argmax(logits, 1), tf.argmax(y, 1))\n",
    "accuracy = tf.reduce_mean(tf.cast(correct_prediction, tf.float32))"
   ]
  },
  {
   "cell_type": "code",
   "execution_count": 16,
   "metadata": {},
   "outputs": [
    {
     "name": "stdout",
     "output_type": "stream",
     "text": [
      "Epoch 0   - Validation Accuracy: 0.39079999923706055\n",
      "Epoch 1   - Validation Accuracy: 0.5490000247955322\n",
      "Epoch 2   - Validation Accuracy: 0.631600022315979\n",
      "Epoch 3   - Validation Accuracy: 0.682200014591217\n",
      "Epoch 4   - Validation Accuracy: 0.7134000062942505\n",
      "Epoch 5   - Validation Accuracy: 0.7365999817848206\n",
      "Epoch 6   - Validation Accuracy: 0.753000020980835\n",
      "Epoch 7   - Validation Accuracy: 0.7656000256538391\n",
      "Epoch 8   - Validation Accuracy: 0.7771999835968018\n",
      "Epoch 9   - Validation Accuracy: 0.7856000065803528\n",
      "Epoch 10  - Validation Accuracy: 0.7925999760627747\n",
      "Epoch 11  - Validation Accuracy: 0.8009999990463257\n",
      "Epoch 12  - Validation Accuracy: 0.8058000206947327\n",
      "Epoch 13  - Validation Accuracy: 0.8090000152587891\n",
      "Epoch 14  - Validation Accuracy: 0.8130000233650208\n",
      "Epoch 15  - Validation Accuracy: 0.8198000192642212\n",
      "Epoch 16  - Validation Accuracy: 0.824400007724762\n",
      "Epoch 17  - Validation Accuracy: 0.829200029373169\n",
      "Epoch 18  - Validation Accuracy: 0.8312000036239624\n",
      "Epoch 19  - Validation Accuracy: 0.8327999711036682\n"
     ]
    }
   ],
   "source": [
    "saver = tf.train.Saver()\n",
    "with tf.Session() as session:\n",
    "    session.run(init)\n",
    "    \n",
    "    for e in range(epochs):\n",
    "        total_batch = int(mnist.train.num_examples/batch_size)\n",
    "        for b in range(total_batch):\n",
    "            batch_x, batch_y = mnist.train.next_batch(batch_size)\n",
    "            session.run(optimizer, feed_dict={x:batch_x, y:batch_y})\n",
    "        \n",
    "        valid_accuracy = session.run(accuracy, feed_dict={x:mnist.validation.images, y:mnist.validation.labels})\n",
    "        print('Epoch {:<3} - Validation Accuracy: {}'.format(e,valid_accuracy))\n",
    "        \n",
    "    saver.save(session, './tensorflow-multi-layer-mnist.ckpt')\n"
   ]
  },
  {
   "cell_type": "code",
   "execution_count": 19,
   "metadata": {},
   "outputs": [
    {
     "name": "stdout",
     "output_type": "stream",
     "text": [
      "INFO:tensorflow:Restoring parameters from ./tensorflow-multi-layer-mnist.ckpt\n",
      "Test Accuracy: 0.8288999795913696\n"
     ]
    }
   ],
   "source": [
    "with tf.Session() as sess:\n",
    "    saver.restore(sess, './tensorflow-multi-layer-mnist.ckpt')\n",
    "\n",
    "    test_accuracy = sess.run(\n",
    "        accuracy,\n",
    "        feed_dict={x: mnist.test.images, y: mnist.test.labels})\n",
    "\n",
    "print('Test Accuracy: {}'.format(test_accuracy))\n"
   ]
  }
 ],
 "metadata": {
  "kernelspec": {
   "display_name": "Python [default]",
   "language": "python",
   "name": "python3"
  },
  "language_info": {
   "codemirror_mode": {
    "name": "ipython",
    "version": 3
   },
   "file_extension": ".py",
   "mimetype": "text/x-python",
   "name": "python",
   "nbconvert_exporter": "python",
   "pygments_lexer": "ipython3",
   "version": "3.6.4"
  }
 },
 "nbformat": 4,
 "nbformat_minor": 2
}
