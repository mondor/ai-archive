{
 "cells": [
  {
   "cell_type": "code",
   "execution_count": 109,
   "metadata": {},
   "outputs": [],
   "source": [
    "import json\n",
    "from collections import Counter\n",
    "\n",
    "\n",
    "path = '/Users/mondormo/Desktop/'\n",
    "\n",
    "with open(path + 'published') as file:\n",
    "    published = file.read()\n",
    "    published = published.split('\\n')\n",
    "    \n",
    "with open(path + 'disabled') as file:\n",
    "    disabled = file.read()\n",
    "    disabled = disabled.split('\\n')\n",
    "    \n",
    "    \n",
    "def get_keywords(lines):\n",
    "    counter = Counter()\n",
    "    for line in lines:\n",
    "        try:\n",
    "            o = json.loads(line)\n",
    "            if 'Entities' in o:\n",
    "                for each in o['Entities']:\n",
    "                    if 'Text' in each:\n",
    "                        w = each['Text']\n",
    "                        counter[w] += 1\n",
    "        except:\n",
    "            print(line)\n",
    "\n",
    "    return counter\n",
    "            \n",
    "        "
   ]
  },
  {
   "cell_type": "code",
   "execution_count": 110,
   "metadata": {},
   "outputs": [
    {
     "name": "stdout",
     "output_type": "stream",
     "text": [
      "\n",
      "[('#asia', 57), ('#japan', 54), ('#bali', 31), ('2019', 28), ('Bali', 28), ('#australia', 27), ('#indonesia', 26), ('#china', 25), ('@jetstaraustralia', 24), ('one', 23), ('2018', 19), ('#cambodia', 17), ('Cambodia', 16), ('#instagram', 16), ('Japan', 16), ('#thailand', 14), ('#tokyo', 14), ('Indonesia', 14), ('Angkor Wat', 13), ('#malaysia', 13), ('#taiwan', 13), ('#sakura', 13), ('Chinese New Year', 12), ('One', 12), ('#okinawa', 12), ('#osaka', 12), ('Bangkok', 11), ('New Year', 11), ('#sanya', 11), ('#southeastasia', 10), ('@tatiana_sakharova_ Свет', 10), ('@runrunrunrunrunrunaway', 10), ('#hainan', 10), ('Yangon', 10), ('Singapore', 10), ('BALI', 10), ('Thailand', 9), ('Manila', 9), ('Tokyo', 9), ('Osaka', 9), ('#bangkok', 8), ('#travelasia', 8), ('Siem Reap', 8), ('#Taiwan', 8), ('Myanmar', 8), ('@jetstarasia', 8), ('Penang', 7), ('this year', 7), ('Hong Kong', 7), ('Sydney', 7)]\n"
     ]
    }
   ],
   "source": [
    "published_keywords = get_keywords(published)\n",
    "print(published_keywords.most_common(50))"
   ]
  },
  {
   "cell_type": "code",
   "execution_count": 111,
   "metadata": {
    "scrolled": true
   },
   "outputs": [
    {
     "name": "stdout",
     "output_type": "stream",
     "text": [
      "\n",
      "[('#japan', 6551), ('#kyoto', 3758), ('2019', 2128), ('Kyoto', 1747), ('#osaka', 1195), ('#instagram', 1071), ('#asia', 1016), ('Japan', 1011), ('#Japan', 783), ('#tokyo', 707), ('#thailand', 644), ('#japanese', 638), ('#Kyoto', 546), ('dan komen', 540), ('2', 509), ('Japanese', 500), ('one', 486), ('2018', 478), ('Bangkok', 464), ('Thailand', 439), ('#2019', 431), ('100%', 402), ('1', 401), ('today', 368), ('Indonesia', 356), ('Whatsapp', 334), ('WA', 323), ('#japon', 318), ('Jakarta', 308), ('#jakarta', 303), ('#japantrip', 301), ('#kyotojapan', 298), ('Instagram', 297), ('#japantravel', 286), ('#bangkok', 281), ('Phuket', 275), ('Osaka', 271), ('Amiinn', 263), ('Tokyo', 253), ('10', 250), ('3', 246), ('japan', 246), ('WhatsApp', 239), ('Today', 238), ('#australia', 230), ('HP', 228), ('#indonesia', 227), ('#shrine', 215), ('#phuket', 208), ('#cambodia', 208)]\n"
     ]
    }
   ],
   "source": [
    "disabled_keywords = get_keywords(disabled)\n",
    "print(disabled_keywords.most_common(50))"
   ]
  },
  {
   "cell_type": "code",
   "execution_count": 112,
   "metadata": {},
   "outputs": [
    {
     "name": "stdout",
     "output_type": "stream",
     "text": [
      "yes\n"
     ]
    }
   ],
   "source": [
    "if '#kyoto' in disabled_keywords:\n",
    "    print('yes')"
   ]
  },
  {
   "cell_type": "code",
   "execution_count": 113,
   "metadata": {},
   "outputs": [
    {
     "name": "stdout",
     "output_type": "stream",
     "text": [
      "\n",
      "\n"
     ]
    },
    {
     "data": {
      "image/png": "[encoded data removed]",
      "text/plain": [
       "<matplotlib.figure.Figure at 0x1a1ed14470>"
      ]
     },
     "metadata": {},
     "output_type": "display_data"
    }
   ],
   "source": [
    "import matplotlib.pyplot as plt\n",
    "import numpy as np\n",
    "% matplotlib inline\n",
    "\n",
    "plt.figure(figsize=(6*3.13,4*3.13))\n",
    "\n",
    "#def plot_graph(published, disabled, most_common=50):\n",
    "most_common=20\n",
    "published_counter = get_keywords(published)\n",
    "disabled_counter = get_keywords(disabled)\n",
    "\n",
    "total_count = len(published) + len(disabled)\n",
    "\n",
    "published_percentages = []\n",
    "disabled_percentages = []\n",
    "labels = []\n",
    "\n",
    "for w, c in disabled_counter.most_common(most_common):\n",
    "    \n",
    "    disabled_percentage = (c / total_count) * 100\n",
    "    disabled_percentages.append(disabled_percentage)\n",
    "\n",
    "    published_percentage = 0\n",
    "    if w in published_counter:\n",
    "        published_percentage = (published_counter.get(w) / total_count) * 100\n",
    "        published_percentages.append(published_percentage)\n",
    "\n",
    "    labels.append(w)\n",
    "\n",
    "\n",
    "\n",
    "ind = np.arange(len(labels))\n",
    "width = 0.2\n",
    "plt.bar(ind - width/2, disabled_percentages, width, color='Red', label='Disabled')\n",
    "plt.bar(ind + width/2, published_percentage, width, color='Green', label='Published')\n",
    "            \n",
    "plt.ylabel('Percentage')\n",
    "plt.xticks(ind, labels)\n",
    "\n",
    "plt.show()\n",
    "\n",
    "        \n",
    "\n",
    "            \n",
    "        \n",
    "    "
   ]
  },
  {
   "cell_type": "code",
   "execution_count": 125,
   "metadata": {},
   "outputs": [
    {
     "name": "stdout",
     "output_type": "stream",
     "text": [
      "#asia\n",
      "#japan\n",
      "#bali\n",
      "2019\n",
      "Bali\n",
      "#australia\n",
      "#indonesia\n",
      "#china\n",
      "@jetstaraustralia\n",
      "one\n",
      "2018\n",
      "#cambodia\n",
      "Cambodia\n",
      "#instagram\n",
      "Japan\n",
      "#thailand\n",
      "#tokyo\n",
      "Indonesia\n",
      "Angkor Wat\n",
      "#malaysia\n",
      "#taiwan\n",
      "#sakura\n",
      "Chinese New Year\n",
      "One\n",
      "#okinawa\n",
      "#osaka\n",
      "Bangkok\n",
      "New Year\n",
      "#sanya\n",
      "#southeastasia\n",
      "@tatiana_sakharova_ Свет\n",
      "@runrunrunrunrunrunaway\n",
      "#hainan\n",
      "Yangon\n",
      "Singapore\n",
      "BALI\n",
      "Thailand\n",
      "Manila\n",
      "Tokyo\n",
      "Osaka\n",
      "#bangkok\n",
      "#travelasia\n",
      "Siem Reap\n",
      "#Taiwan\n",
      "Myanmar\n",
      "@jetstarasia\n",
      "Penang\n",
      "this year\n",
      "Hong Kong\n",
      "Sydney\n"
     ]
    }
   ],
   "source": [
    "common_words = []\n",
    "\n",
    "common_disabled = [w for w, c in disabled_counter.most_common(50)]\n",
    "for w, c in published_counter.most_common(50):\n",
    "    print(w)\n",
    "    if w in common_disabled:\n",
    "        common_words.append(w)\n",
    "        \n",
    "        \n",
    "    "
   ]
  },
  {
   "cell_type": "code",
   "execution_count": 126,
   "metadata": {
    "scrolled": false
   },
   "outputs": [
    {
     "data": {
      "text/plain": [
       "['#asia',\n",
       " '#japan',\n",
       " '2019',\n",
       " '#australia',\n",
       " '#indonesia',\n",
       " 'one',\n",
       " '2018',\n",
       " '#cambodia',\n",
       " '#instagram',\n",
       " 'Japan',\n",
       " '#thailand',\n",
       " '#tokyo',\n",
       " 'Indonesia',\n",
       " '#osaka',\n",
       " 'Bangkok',\n",
       " 'Thailand',\n",
       " 'Tokyo',\n",
       " 'Osaka',\n",
       " '#bangkok']"
      ]
     },
     "execution_count": 126,
     "metadata": {},
     "output_type": "execute_result"
    }
   ],
   "source": [
    "common_words"
   ]
  }
 ],
 "metadata": {
  "kernelspec": {
   "display_name": "Python [default]",
   "language": "python",
   "name": "python3"
  },
  "language_info": {
   "codemirror_mode": {
    "name": "ipython",
    "version": 3
   },
   "file_extension": ".py",
   "mimetype": "text/x-python",
   "name": "python",
   "nbconvert_exporter": "python",
   "pygments_lexer": "ipython3",
   "version": "3.6.8"
  }
 },
 "nbformat": 4,
 "nbformat_minor": 2
}
