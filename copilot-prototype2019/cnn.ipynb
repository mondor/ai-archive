{
 "cells": [
  {
   "cell_type": "code",
   "execution_count": 1,
   "metadata": {},
   "outputs": [
    {
     "name": "stderr",
     "output_type": "stream",
     "text": [
      "Using TensorFlow backend.\n"
     ]
    }
   ],
   "source": [
    "import sys\n",
    "sys.path.insert(0, '/Users/mondormo/stackla17/stackla-web/etc/python')\n",
    "\n",
    "\n",
    "from multilabels_model import keras_model_fn, train_input_fn, eval_input_fn, _load_data\n",
    "import os, re, csv, math, codecs\n",
    "import numpy as np\n",
    "import pandas as pd\n",
    "\n",
    "from keras.models import Model\n",
    "from keras.layers import Dense, Embedding, Input\n",
    "from keras.layers import LSTM, Bidirectional, GlobalMaxPool1D, Dropout, GlobalMaxPooling1D, Conv1D, MaxPooling1D, BatchNormalization\n",
    "from keras.preprocessing import text, sequence\n",
    "from keras.callbacks import EarlyStopping, ModelCheckpoint"
   ]
  },
  {
   "cell_type": "code",
   "execution_count": 2,
   "metadata": {},
   "outputs": [
    {
     "name": "stdout",
     "output_type": "stream",
     "text": [
      "downloading s3://sagemaker-us-east-1-953585160895/pretrain-embedding/wiki.simple.vec to wiki.simple.vec\n",
      "data/wiki.simple.vec already exists\n",
      "Building embedding_index...\n",
      "embedding_index length: 111051\n",
      "Building word_index...\n",
      "word_index length: 6175\n",
      "Building embedding_matrix...\n",
      "embedding_matrix shape (6176, 300)\n"
     ]
    }
   ],
   "source": [
    "max_features = 50000\n",
    "input_dim = 150\n",
    "n_classes = 2\n",
    "num_epochs = 10\n",
    "batch_size = 256\n",
    "embed_dim = 300\n",
    "\n",
    "hyperparameters = {\n",
    "    \"input_dim\": input_dim,\n",
    "    \"n_classes\": n_classes, \n",
    "    \"num_epochs\": num_epochs,\n",
    "    \"batch_size\": batch_size,\n",
    "    \"pretrain_embedding\": \"s3://sagemaker-us-east-1-953585160895/pretrain-embedding/wiki.simple.vec\",\n",
    "    \"embed_dim\": embed_dim\n",
    "}\n",
    "\n",
    "\n",
    "DATA_PATH='data'\n",
    "model = keras_model_fn(hyperparameters)\n",
    "\n",
    "file_path=\"prototype-cnn-weights.best.hdf5\"\n",
    "checkpoint = ModelCheckpoint(file_path, monitor='val_loss', verbose=1, save_best_only=True, mode='min')\n",
    "early = EarlyStopping(monitor=\"val_loss\", mode=\"min\", patience=20)\n",
    "callbacks_list = [checkpoint, early]\n",
    "\n",
    "\n",
    "\n"
   ]
  },
  {
   "cell_type": "code",
   "execution_count": 3,
   "metadata": {},
   "outputs": [
    {
     "name": "stdout",
     "output_type": "stream",
     "text": [
      "train_x: (264, 150), train_y: (264, 2), val_x: (66, 150), val_y: (66, 2)\n"
     ]
    }
   ],
   "source": [
    "train_x, train_y = _load_data('data/training', 'train', n_classes)\n",
    "val_x, val_y = _load_data('data/training', 'eval', n_classes)\n",
    "\n",
    "print('train_x: %s, train_y: %s, val_x: %s, val_y: %s' % (train_x.shape,train_y.shape, val_x.shape, val_y.shape))"
   ]
  },
  {
   "cell_type": "code",
   "execution_count": 4,
   "metadata": {
    "scrolled": true
   },
   "outputs": [
    {
     "name": "stderr",
     "output_type": "stream",
     "text": [
      "/Users/mondormo/anaconda3/lib/python3.6/site-packages/tensorflow/python/ops/gradients_impl.py:112: UserWarning: Converting sparse IndexedSlices to a dense Tensor of unknown shape. This may consume a large amount of memory.\n",
      "  \"Converting sparse IndexedSlices to a dense Tensor of unknown shape. \"\n"
     ]
    },
    {
     "name": "stdout",
     "output_type": "stream",
     "text": [
      "Train on 211 samples, validate on 53 samples\n",
      "Epoch 1/10\n",
      "\n",
      "Epoch 00001: val_loss improved from inf to 0.70395, saving model to prototype-cnn-weights.best.hdf5\n",
      "211/211 [==============================] - 5s 23ms/step - loss: 0.7423 - acc: 0.5071 - f1: 0.5720 - val_loss: 0.7040 - val_acc: 0.5377 - val_f1: 0.1695\n",
      "Epoch 2/10\n",
      "\n",
      "Epoch 00002: val_loss improved from 0.70395 to 0.66173, saving model to prototype-cnn-weights.best.hdf5\n",
      "211/211 [==============================] - 2s 9ms/step - loss: 0.7585 - acc: 0.5213 - f1: 0.3176 - val_loss: 0.6617 - val_acc: 0.5943 - val_f1: 0.4557\n",
      "Epoch 3/10\n",
      "\n",
      "Epoch 00003: val_loss improved from 0.66173 to 0.64743, saving model to prototype-cnn-weights.best.hdf5\n",
      "211/211 [==============================] - 2s 9ms/step - loss: 0.6940 - acc: 0.5521 - f1: 0.4553 - val_loss: 0.6474 - val_acc: 0.6509 - val_f1: 0.6667\n",
      "Epoch 4/10\n",
      "\n",
      "Epoch 00004: val_loss did not improve\n",
      "211/211 [==============================] - 2s 10ms/step - loss: 0.6625 - acc: 0.5900 - f1: 0.6095 - val_loss: 0.6621 - val_acc: 0.6038 - val_f1: 0.6557\n",
      "Epoch 5/10\n",
      "\n",
      "Epoch 00005: val_loss did not improve\n",
      "211/211 [==============================] - 2s 9ms/step - loss: 0.6418 - acc: 0.6280 - f1: 0.6789 - val_loss: 0.6626 - val_acc: 0.5660 - val_f1: 0.6102\n",
      "Epoch 6/10\n",
      "\n",
      "Epoch 00006: val_loss improved from 0.64743 to 0.63625, saving model to prototype-cnn-weights.best.hdf5\n",
      "211/211 [==============================] - 2s 10ms/step - loss: 0.6392 - acc: 0.6374 - f1: 0.6752 - val_loss: 0.6362 - val_acc: 0.6132 - val_f1: 0.6496\n",
      "Epoch 7/10\n",
      "\n",
      "Epoch 00007: val_loss improved from 0.63625 to 0.60268, saving model to prototype-cnn-weights.best.hdf5\n",
      "211/211 [==============================] - 2s 9ms/step - loss: 0.5883 - acc: 0.7133 - f1: 0.7305 - val_loss: 0.6027 - val_acc: 0.7075 - val_f1: 0.6990\n",
      "Epoch 8/10\n",
      "\n",
      "Epoch 00008: val_loss improved from 0.60268 to 0.58327, saving model to prototype-cnn-weights.best.hdf5\n",
      "211/211 [==============================] - 2s 10ms/step - loss: 0.5840 - acc: 0.6967 - f1: 0.7064 - val_loss: 0.5833 - val_acc: 0.7264 - val_f1: 0.6882\n",
      "Epoch 9/10\n",
      "\n",
      "Epoch 00009: val_loss improved from 0.58327 to 0.57458, saving model to prototype-cnn-weights.best.hdf5\n",
      "211/211 [==============================] - 2s 10ms/step - loss: 0.5471 - acc: 0.7654 - f1: 0.7531 - val_loss: 0.5746 - val_acc: 0.7642 - val_f1: 0.7191\n",
      "Epoch 10/10\n",
      "\n",
      "Epoch 00010: val_loss improved from 0.57458 to 0.56501, saving model to prototype-cnn-weights.best.hdf5\n",
      "211/211 [==============================] - 2s 10ms/step - loss: 0.5530 - acc: 0.7299 - f1: 0.7016 - val_loss: 0.5650 - val_acc: 0.7547 - val_f1: 0.6977\n"
     ]
    },
    {
     "data": {
      "text/plain": [
       "<tensorflow.python.keras.callbacks.History at 0x10d597518>"
      ]
     },
     "execution_count": 4,
     "metadata": {},
     "output_type": "execute_result"
    }
   ],
   "source": [
    "model.fit(train_x, train_y, batch_size=batch_size, epochs=num_epochs, validation_split=0.2, callbacks=callbacks_list)\n"
   ]
  },
  {
   "cell_type": "code",
   "execution_count": 5,
   "metadata": {},
   "outputs": [
    {
     "name": "stdout",
     "output_type": "stream",
     "text": [
      "66/66 [==============================] - 0s 2ms/step\n"
     ]
    },
    {
     "data": {
      "text/plain": [
       "[0.4855870243274804, 0.8257575757575758, 0.8025366176258434]"
      ]
     },
     "execution_count": 5,
     "metadata": {},
     "output_type": "execute_result"
    }
   ],
   "source": [
    "model.load_weights(file_path)\n",
    "model.evaluate(val_x, val_y, verbose=1)"
   ]
  }
 ],
 "metadata": {
  "kernelspec": {
   "display_name": "Python [default]",
   "language": "python",
   "name": "python3"
  },
  "language_info": {
   "codemirror_mode": {
    "name": "ipython",
    "version": 3
   },
   "file_extension": ".py",
   "mimetype": "text/x-python",
   "name": "python",
   "nbconvert_exporter": "python",
   "pygments_lexer": "ipython3",
   "version": "3.6.8"
  }
 },
 "nbformat": 4,
 "nbformat_minor": 2
}
