{
 "cells": [
  {
   "cell_type": "code",
   "execution_count": 8,
   "metadata": {},
   "outputs": [
    {
     "name": "stdout",
     "output_type": "stream",
     "text": [
      "[[0 1 2 3]]\n"
     ]
    }
   ],
   "source": [
    "import numpy as np\n",
    "a = np.asarray([1,2,3,4]).reshape(1,-1)\n",
    "\n",
    "b = a - np.min(a)\n",
    "print(b)"
   ]
  },
  {
   "cell_type": "code",
   "execution_count": 12,
   "metadata": {},
   "outputs": [
    {
     "name": "stdout",
     "output_type": "stream",
     "text": [
      "(1, 3)\n",
      "Input as Array: [[-1  2  7]]\n",
      "Input minus min: [[0 3 8]]\n",
      "Input  Array: [[0.    0.375 1.   ]]\n",
      "m1 (2, 3) m2 (4, 1)\n",
      "Multiply 1:\n",
      "False\n",
      "m1 (2, 3) m2 (3, 1)\n",
      "Multiply 2:\n",
      "[[14]\n",
      " [32]]\n",
      "m1 (2, 3) m2 (1, 2)\n",
      "Multiply 3:\n",
      "[[ 9 12 15]]\n",
      "Mean == 2.6666666666666665\n"
     ]
    }
   ],
   "source": [
    "# Use the numpy library\n",
    "import numpy as np\n",
    "\n",
    "\n",
    "def prepare_inputs(inputs):\n",
    "    # TODO: create a 2-dimensional ndarray from the given 1-dimensional list;\n",
    "    #       assign it to input_array\n",
    "    input_array = np.array(inputs).reshape((1,-1))\n",
    "    print(input_array.shape)\n",
    "    \n",
    "    # TODO: find the minimum value in input_array and subtract that\n",
    "    #       value from all the elements of input_array. Store the\n",
    "    #       result in inputs_minus_min\n",
    "    inputs_minus_min = input_array - np.min(input_array)\n",
    "\n",
    "    # TODO: find the maximum value in inputs_minus_min and divide\n",
    "    #       all of the values in inputs_minus_min by the maximum value.\n",
    "    #       Store the results in inputs_div_max.\n",
    "    inputs_div_max = inputs_minus_min/np.max(inputs_minus_min)\n",
    "\n",
    "    # return the three arrays we've created\n",
    "    return input_array, inputs_minus_min, inputs_div_max\n",
    "    \n",
    "\n",
    "def multiply_inputs(m1, m2):\n",
    "    print(\"m1 {} m2 {}\".format(m1.shape, m2.shape))\n",
    "    # TODO: Check the shapes of the matrices m1 and m2. \n",
    "    #       m1 and m2 will be ndarray objects.\n",
    "    #\n",
    "    #       Return False if the shapes cannot be used for matrix\n",
    "    #       multiplication. You may not use a transpose\n",
    "    if m1.shape[1] == m2.shape[0]:\n",
    "        return m1.dot(m2)\n",
    "\n",
    "    if m2.shape[1] == m1.shape[0]:\n",
    "        return m2.dot(m1)\n",
    "        \n",
    "    return False\n",
    "\n",
    "def find_mean(values):\n",
    "    return np.array(values).mean()\n",
    "\n",
    "input_array, inputs_minus_min, inputs_div_max = prepare_inputs([-1,2,7])\n",
    "print(\"Input as Array: {}\".format(input_array))\n",
    "print(\"Input minus min: {}\".format(inputs_minus_min))\n",
    "print(\"Input  Array: {}\".format(inputs_div_max))\n",
    "\n",
    "print(\"Multiply 1:\\n{}\".format(multiply_inputs(np.array([[1,2,3],[4,5,6]]), np.array([[1],[2],[3],[4]]))))\n",
    "print(\"Multiply 2:\\n{}\".format(multiply_inputs(np.array([[1,2,3],[4,5,6]]), np.array([[1],[2],[3]]))))\n",
    "print(\"Multiply 3:\\n{}\".format(multiply_inputs(np.array([[1,2,3],[4,5,6]]), np.array([[1,2]]))))\n",
    "\n",
    "print(\"Mean == {}\".format(find_mean([1,3,4])))"
   ]
  }
 ],
 "metadata": {
  "kernelspec": {
   "display_name": "Python [default]",
   "language": "python",
   "name": "python3"
  },
  "language_info": {
   "codemirror_mode": {
    "name": "ipython",
    "version": 3
   },
   "file_extension": ".py",
   "mimetype": "text/x-python",
   "name": "python",
   "nbconvert_exporter": "python",
   "pygments_lexer": "ipython3",
   "version": "3.6.8"
  }
 },
 "nbformat": 4,
 "nbformat_minor": 2
}
