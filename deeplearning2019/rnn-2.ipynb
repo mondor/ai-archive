{
 "cells": [
  {
   "cell_type": "code",
   "execution_count": 2,
   "metadata": {},
   "outputs": [],
   "source": [
    "import numpy as np\n",
    "import torch\n",
    "from torch import nn\n",
    "import torch.nn.functional as F"
   ]
  },
  {
   "cell_type": "code",
   "execution_count": 3,
   "metadata": {},
   "outputs": [],
   "source": [
    "file = './deep-learning-v2-pytorch/recurrent-neural-networks/char-rnn/data/anna.txt'\n",
    "with open(file) as f:\n",
    "    text = f.read()"
   ]
  },
  {
   "cell_type": "code",
   "execution_count": 4,
   "metadata": {
    "scrolled": true
   },
   "outputs": [
    {
     "data": {
      "text/plain": [
       "\"Chapter 1\\n\\n\\nHappy families are all alike; every unhappy family is unhappy in its own\\nway.\\n\\nEverything was in confusion in the Oblonskys' house. The wife had\\ndiscovered that the husband was carrying on\""
      ]
     },
     "execution_count": 4,
     "metadata": {},
     "output_type": "execute_result"
    }
   ],
   "source": [
    "text[:200]"
   ]
  },
  {
   "cell_type": "code",
   "execution_count": 5,
   "metadata": {},
   "outputs": [],
   "source": [
    "chars = tuple(set(text))\n",
    "int2char = dict(enumerate(chars))\n",
    "char2int = {c:i for i, c in int2char.items()}\n"
   ]
  },
  {
   "cell_type": "code",
   "execution_count": 6,
   "metadata": {},
   "outputs": [],
   "source": [
    "encoded = np.array([char2int[c] for c in text])"
   ]
  },
  {
   "cell_type": "code",
   "execution_count": 7,
   "metadata": {},
   "outputs": [
    {
     "data": {
      "text/plain": [
       "(1985223,)"
      ]
     },
     "execution_count": 7,
     "metadata": {},
     "output_type": "execute_result"
    }
   ],
   "source": [
    "encoded.shape"
   ]
  },
  {
   "cell_type": "code",
   "execution_count": 8,
   "metadata": {},
   "outputs": [
    {
     "name": "stdout",
     "output_type": "stream",
     "text": [
      "(1, 3)\n",
      "(1, 3, 8)\n",
      "[[[0. 0. 0. 1. 0. 0. 0. 0.]\n",
      "  [0. 0. 0. 0. 0. 1. 0. 0.]\n",
      "  [0. 1. 0. 0. 0. 0. 0. 0.]]]\n"
     ]
    }
   ],
   "source": [
    "def one_hot_encode(arr, n_labels):\n",
    "    \n",
    "    # Initialize the the encoded array\n",
    "    one_hot = np.zeros((np.multiply(*arr.shape), n_labels), dtype=np.float32)\n",
    "    \n",
    "    # Fill the appropriate elements with ones\n",
    "    one_hot[np.arange(one_hot.shape[0]), arr.flatten()] = 1.\n",
    "    \n",
    "    # Finally reshape it to get back to the original array\n",
    "    one_hot = one_hot.reshape((*arr.shape, n_labels))\n",
    "    \n",
    "    return one_hot\n",
    "\n",
    "\n",
    "test_seq = np.array([[3, 5, 1]])\n",
    "one_hot = one_hot_encode(test_seq, 8)\n",
    "\n",
    "print(test_seq.shape)\n",
    "print(one_hot.shape)\n",
    "print(one_hot)\n",
    "    "
   ]
  },
  {
   "cell_type": "code",
   "execution_count": 9,
   "metadata": {},
   "outputs": [],
   "source": [
    "def get_batches(arr, batch_size, seq_length):\n",
    "    '''Create a generator that returns batches of size\n",
    "       batch_size x seq_length from arr.\n",
    "       \n",
    "       Arguments\n",
    "       ---------\n",
    "       arr: Array you want to make batches from\n",
    "       batch_size: Batch size, the number of sequences per batch\n",
    "       seq_length: Number of encoded chars in a sequence\n",
    "    '''\n",
    "    \n",
    "    batch_size_total = batch_size * seq_length\n",
    "    # total number of batches we can make\n",
    "    n_batches = len(arr)//batch_size_total\n",
    "    \n",
    "    # Keep only enough characters to make full batches\n",
    "    arr = arr[:n_batches * batch_size_total]\n",
    "    # Reshape into batch_size rows\n",
    "    arr = arr.reshape((batch_size, -1))\n",
    "    \n",
    "    # iterate through the array, one sequence at a time\n",
    "    for n in range(0, arr.shape[1], seq_length):\n",
    "        # The features\n",
    "        x = arr[:, n:n+seq_length]\n",
    "        # The targets, shifted by one\n",
    "        y = np.zeros_like(x)\n",
    "        try:\n",
    "            y[:, :-1], y[:, -1] = x[:, 1:], arr[:, n+seq_length]\n",
    "        except IndexError:\n",
    "            y[:, :-1], y[:, -1] = x[:, 1:], arr[:, 0]\n",
    "        yield x, y"
   ]
  },
  {
   "cell_type": "code",
   "execution_count": 10,
   "metadata": {},
   "outputs": [],
   "source": [
    "batches = get_batches(encoded, 8, 50)"
   ]
  },
  {
   "cell_type": "code",
   "execution_count": 11,
   "metadata": {},
   "outputs": [],
   "source": [
    "x, y = next(batches)"
   ]
  },
  {
   "cell_type": "code",
   "execution_count": 12,
   "metadata": {
    "scrolled": true
   },
   "outputs": [
    {
     "name": "stdout",
     "output_type": "stream",
     "text": [
      "x\n",
      " [[52 15 14 69 58 68 39 57 56 80]\n",
      " [38 24 30 57 58 15 14 58 57 14]\n",
      " [68 30 63 57 24 39 57 14 57  6]\n",
      " [38 57 58 15 68 57 32 15  1 68]\n",
      " [57 38 14 70 57 15 68 39 57 58]\n",
      " [32 61 38 38  1 24 30 57 14 30]\n",
      " [57 36 30 30 14 57 15 14 63 57]\n",
      " [71  9 48 24 30 38 33 54 79 57]]\n",
      "\n",
      "y\n",
      " [[15 14 69 58 68 39 57 56 80 80]\n",
      " [24 30 57 58 15 14 58 57 14 58]\n",
      " [30 63 57 24 39 57 14 57  6 24]\n",
      " [57 58 15 68 57 32 15  1 68  6]\n",
      " [38 14 70 57 15 68 39 57 58 68]\n",
      " [61 38 38  1 24 30 57 14 30 63]\n",
      " [36 30 30 14 57 15 14 63 57 38]\n",
      " [ 9 48 24 30 38 33 54 79 57 37]]\n"
     ]
    }
   ],
   "source": [
    "# printing out the first 10 items in a sequence\n",
    "print('x\\n', x[:10, :10])\n",
    "print('\\ny\\n', y[:10, :10])"
   ]
  },
  {
   "cell_type": "code",
   "execution_count": 13,
   "metadata": {},
   "outputs": [],
   "source": [
    "class CharNN(nn.Module):\n",
    "    def __init__(self, \n",
    "                tokens,\n",
    "                n_hidden=256,\n",
    "                n_layers=2,\n",
    "                drop_prob=0.5,\n",
    "                lr=0.001):\n",
    "        \n",
    "        super().__init__()\n",
    "        self.drop_prob = drop_prob\n",
    "        self.n_layers = n_layers\n",
    "        self.n_hidden = n_hidden\n",
    "        self.lr = lr\n",
    "        \n",
    "        self.chars = tokens\n",
    "        self.int2char = dict(enumerate(self.chars))\n",
    "        self.char2int = {c:i for i, c in self.int2char.items()}\n",
    "        \n",
    "        self.lstm = nn.LSTM(len(self.chars), n_hidden, n_layers,\n",
    "                           dropout=drop_prob, batch_first=True)\n",
    "        \n",
    "        self.dropout = nn.Dropout(drop_prob)\n",
    "        \n",
    "        self.fc = nn.Linear(n_hidden, len(self.chars))\n",
    "        \n",
    "        \n",
    "    def forward(self, x, hidden):\n",
    "        r_output, hidden = self.lstm(x, hidden)\n",
    "        \n",
    "        out = self.dropout(r_output)\n",
    "        \n",
    "        out = out.contiguous().view(-1, self.n_hidden)\n",
    "        \n",
    "        out = self.fc(out)\n",
    "        \n",
    "        return out, hidden\n",
    "    \n",
    "    \n",
    "    def init_hidden(self, batch_size):\n",
    "        weight = next(self.parameters()).data\n",
    "        \n",
    "        hidden = (\n",
    "            weight.new(self.n_layers, batch_size, self.n_hidden).zero_(),\n",
    "            weight.new(self.n_layers, batch_size, self.n_hidden).zero_()            \n",
    "        )\n",
    "        \n",
    "        return hidden\n",
    "        \n",
    "         "
   ]
  },
  {
   "cell_type": "code",
   "execution_count": 16,
   "metadata": {},
   "outputs": [
    {
     "name": "stdout",
     "output_type": "stream",
     "text": [
      "<class 'torch.Tensor'>\n",
      "<class 'torch.Tensor'>\n"
     ]
    }
   ],
   "source": [
    "test = CharNN(chars, 512, 2)\n",
    "print(type(test.init_hidden(8)[0]))\n",
    "print(type(test.init_hidden(8)[0].data))"
   ]
  },
  {
   "cell_type": "code",
   "execution_count": 1,
   "metadata": {},
   "outputs": [
    {
     "ename": "NameError",
     "evalue": "name 'chars' is not defined",
     "output_type": "error",
     "traceback": [
      "\u001b[0;31m---------------------------------------------------------------------------\u001b[0m",
      "\u001b[0;31mNameError\u001b[0m                                 Traceback (most recent call last)",
      "\u001b[0;32m<ipython-input-1-709039a105e0>\u001b[0m in \u001b[0;36m<module>\u001b[0;34m()\u001b[0m\n\u001b[1;32m      4\u001b[0m \u001b[0mseq_length\u001b[0m \u001b[0;34m=\u001b[0m \u001b[0;36m100\u001b[0m\u001b[0;34m\u001b[0m\u001b[0;34m\u001b[0m\u001b[0m\n\u001b[1;32m      5\u001b[0m \u001b[0mepochs\u001b[0m \u001b[0;34m=\u001b[0m \u001b[0;36m20\u001b[0m\u001b[0;34m\u001b[0m\u001b[0;34m\u001b[0m\u001b[0m\n\u001b[0;32m----> 6\u001b[0;31m \u001b[0mn_chars\u001b[0m \u001b[0;34m=\u001b[0m \u001b[0mlen\u001b[0m\u001b[0;34m(\u001b[0m\u001b[0mchars\u001b[0m\u001b[0;34m)\u001b[0m\u001b[0;34m\u001b[0m\u001b[0;34m\u001b[0m\u001b[0m\n\u001b[0m\u001b[1;32m      7\u001b[0m \u001b[0mnet\u001b[0m \u001b[0;34m=\u001b[0m \u001b[0mCharNN\u001b[0m\u001b[0;34m(\u001b[0m\u001b[0mchars\u001b[0m\u001b[0;34m,\u001b[0m \u001b[0;36m512\u001b[0m\u001b[0;34m,\u001b[0m \u001b[0;36m2\u001b[0m\u001b[0;34m)\u001b[0m\u001b[0;34m\u001b[0m\u001b[0;34m\u001b[0m\u001b[0m\n\u001b[1;32m      8\u001b[0m \u001b[0mprint\u001b[0m\u001b[0;34m(\u001b[0m\u001b[0mnet\u001b[0m\u001b[0;34m)\u001b[0m\u001b[0;34m\u001b[0m\u001b[0;34m\u001b[0m\u001b[0m\n",
      "\u001b[0;31mNameError\u001b[0m: name 'chars' is not defined"
     ]
    }
   ],
   "source": [
    "val_frac = 0.1\n",
    "lr = 0.001\n",
    "batch_size = 128\n",
    "seq_length = 100\n",
    "epochs = 20\n",
    "n_chars = len(chars)\n",
    "net = CharNN(chars, 512, 2)\n",
    "print(net)\n",
    "\n"
   ]
  },
  {
   "cell_type": "code",
   "execution_count": null,
   "metadata": {
    "scrolled": true
   },
   "outputs": [
    {
     "name": "stdout",
     "output_type": "stream",
     "text": [
      "Epoch: 1/20... Step: 10... Loss: 3.1562... Val Loss: 3.1214\n",
      "Epoch: 1/20... Step: 20... Loss: 3.1067... Val Loss: 3.1185\n",
      "Epoch: 1/20... Step: 30... Loss: 3.1182... Val Loss: 3.1147\n",
      "Epoch: 1/20... Step: 40... Loss: 3.0950... Val Loss: 3.1089\n",
      "Epoch: 1/20... Step: 50... Loss: 3.1033... Val Loss: 3.0808\n",
      "Epoch: 1/20... Step: 60... Loss: 2.9854... Val Loss: 2.9922\n",
      "Epoch: 1/20... Step: 70... Loss: 2.8349... Val Loss: 2.8192\n",
      "Epoch: 1/20... Step: 80... Loss: 2.7043... Val Loss: 2.7176\n",
      "Epoch: 1/20... Step: 90... Loss: 2.6229... Val Loss: 2.5770\n",
      "Epoch: 1/20... Step: 100... Loss: 2.5284... Val Loss: 2.5078\n",
      "Epoch: 1/20... Step: 110... Loss: 2.4741... Val Loss: 2.4544\n",
      "Epoch: 1/20... Step: 120... Loss: 2.3964... Val Loss: 2.4043\n",
      "Epoch: 1/20... Step: 130... Loss: 2.4090... Val Loss: 2.3725\n",
      "Epoch: 2/20... Step: 140... Loss: 2.3701... Val Loss: 2.3338\n",
      "Epoch: 2/20... Step: 150... Loss: 2.3318... Val Loss: 2.2935\n",
      "Epoch: 2/20... Step: 160... Loss: 2.2989... Val Loss: 2.2599\n",
      "Epoch: 2/20... Step: 170... Loss: 2.2488... Val Loss: 2.2341\n",
      "Epoch: 2/20... Step: 180... Loss: 2.2171... Val Loss: 2.1980\n",
      "Epoch: 2/20... Step: 190... Loss: 2.1604... Val Loss: 2.1776\n",
      "Epoch: 2/20... Step: 200... Loss: 2.1565... Val Loss: 2.1472\n",
      "Epoch: 2/20... Step: 210... Loss: 2.1484... Val Loss: 2.1202\n",
      "Epoch: 2/20... Step: 220... Loss: 2.1045... Val Loss: 2.0972\n",
      "Epoch: 2/20... Step: 230... Loss: 2.1017... Val Loss: 2.0699\n",
      "Epoch: 2/20... Step: 240... Loss: 2.0727... Val Loss: 2.0469\n",
      "Epoch: 2/20... Step: 250... Loss: 2.0165... Val Loss: 2.0274\n",
      "Epoch: 2/20... Step: 260... Loss: 1.9969... Val Loss: 2.0039\n",
      "Epoch: 2/20... Step: 270... Loss: 2.0090... Val Loss: 1.9866\n",
      "Epoch: 3/20... Step: 280... Loss: 1.9964... Val Loss: 1.9680\n",
      "Epoch: 3/20... Step: 290... Loss: 1.9752... Val Loss: 1.9457\n",
      "Epoch: 3/20... Step: 300... Loss: 1.9516... Val Loss: 1.9371\n",
      "Epoch: 3/20... Step: 310... Loss: 1.9298... Val Loss: 1.9195\n",
      "Epoch: 3/20... Step: 320... Loss: 1.8956... Val Loss: 1.8995\n",
      "Epoch: 3/20... Step: 330... Loss: 1.8822... Val Loss: 1.8869\n",
      "Epoch: 3/20... Step: 340... Loss: 1.9130... Val Loss: 1.8699\n",
      "Epoch: 3/20... Step: 350... Loss: 1.8807... Val Loss: 1.8573\n",
      "Epoch: 3/20... Step: 360... Loss: 1.8311... Val Loss: 1.8467\n",
      "Epoch: 3/20... Step: 370... Loss: 1.8579... Val Loss: 1.8305\n",
      "Epoch: 3/20... Step: 380... Loss: 1.8418... Val Loss: 1.8176\n",
      "Epoch: 3/20... Step: 390... Loss: 1.8137... Val Loss: 1.8083\n",
      "Epoch: 3/20... Step: 400... Loss: 1.7924... Val Loss: 1.7958\n",
      "Epoch: 3/20... Step: 410... Loss: 1.8075... Val Loss: 1.7829\n",
      "Epoch: 4/20... Step: 420... Loss: 1.7940... Val Loss: 1.7757\n",
      "Epoch: 4/20... Step: 430... Loss: 1.7935... Val Loss: 1.7585\n",
      "Epoch: 4/20... Step: 440... Loss: 1.7764... Val Loss: 1.7514\n",
      "Epoch: 4/20... Step: 450... Loss: 1.7215... Val Loss: 1.7376\n"
     ]
    }
   ],
   "source": [
    "net.train()\n",
    "\n",
    "opt = torch.optim.Adam(net.parameters(), lr=lr)\n",
    "criterion = nn.CrossEntropyLoss()\n",
    "\n",
    "# create training and validation data\n",
    "val_idx = int(len(encoded)*(1-val_frac))\n",
    "data, val_data = encoded[:val_idx], encoded[val_idx:]\n",
    "\n",
    "\n",
    "counter = 0\n",
    "n_chars = len(net.chars)\n",
    "for e in range(epochs):\n",
    "    # initialize hidden state\n",
    "    h = net.init_hidden(batch_size)\n",
    "\n",
    "    for x, y in get_batches(data, batch_size, seq_length):\n",
    "        counter += 1\n",
    "\n",
    "        # One-hot encode our data and make them Torch tensors\n",
    "        x = one_hot_encode(x, n_chars)\n",
    "        inputs, targets = torch.from_numpy(x), torch.from_numpy(y)\n",
    "\n",
    "        # Creating new variables for the hidden state, otherwise\n",
    "        # we'd backprop through the entire training history\n",
    "        h = tuple([each.data for each in h])\n",
    "\n",
    "        # zero accumulated gradients\n",
    "        net.zero_grad()\n",
    "\n",
    "        # get the output from the model\n",
    "        output, h = net(inputs, h)\n",
    "\n",
    "        # calculate the loss and perform backprop\n",
    "        loss = criterion(output, targets.view(batch_size*seq_length))\n",
    "        loss.backward()\n",
    "        # `clip_grad_norm` helps prevent the exploding gradient problem in RNNs / LSTMs.\n",
    "        nn.utils.clip_grad_norm_(net.parameters(), 5)\n",
    "        opt.step()\n",
    "\n",
    "        # loss stats\n",
    "        if counter % 10 == 0:\n",
    "            # Get validation loss\n",
    "            val_h = net.init_hidden(batch_size)\n",
    "            val_losses = []\n",
    "            net.eval()\n",
    "            for x, y in get_batches(val_data, batch_size, seq_length):\n",
    "                # One-hot encode our data and make them Torch tensors\n",
    "                x = one_hot_encode(x, n_chars)\n",
    "                x, y = torch.from_numpy(x), torch.from_numpy(y)\n",
    "\n",
    "                # Creating new variables for the hidden state, otherwise\n",
    "                # we'd backprop through the entire training history\n",
    "                val_h = tuple([each.data for each in val_h])\n",
    "\n",
    "                inputs, targets = x, y\n",
    "\n",
    "                output, val_h = net(inputs, val_h)\n",
    "                val_loss = criterion(output, targets.view(batch_size*seq_length))\n",
    "\n",
    "                val_losses.append(val_loss.item())\n",
    "\n",
    "            net.train() # reset to train mode after iterationg through validation data\n",
    "\n",
    "            print(\"Epoch: {}/{}...\".format(e+1, epochs),\n",
    "                  \"Step: {}...\".format(counter),\n",
    "                  \"Loss: {:.4f}...\".format(loss.item()),\n",
    "                  \"Val Loss: {:.4f}\".format(np.mean(val_losses)))"
   ]
  }
 ],
 "metadata": {
  "kernelspec": {
   "display_name": "Python [default]",
   "language": "python",
   "name": "python3"
  },
  "language_info": {
   "codemirror_mode": {
    "name": "ipython",
    "version": 3
   },
   "file_extension": ".py",
   "mimetype": "text/x-python",
   "name": "python",
   "nbconvert_exporter": "python",
   "pygments_lexer": "ipython3",
   "version": "3.6.8"
  }
 },
 "nbformat": 4,
 "nbformat_minor": 2
}
