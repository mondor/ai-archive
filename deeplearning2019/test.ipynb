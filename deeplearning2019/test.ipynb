{
 "cells": [
  {
   "cell_type": "code",
   "execution_count": 11,
   "metadata": {},
   "outputs": [
    {
     "name": "stdout",
     "output_type": "stream",
     "text": [
      "torch.Size([2, 5])\n",
      "torch.Size([2, 5])\n",
      "<class 'torch.Tensor'> torch.Size([2, 5])\n",
      "<class 'torch.Tensor'> torch.Size([2])\n",
      "<class 'torch.Tensor'> torch.Size([3, 2])\n",
      "<class 'torch.Tensor'> torch.Size([3])\n"
     ]
    }
   ],
   "source": [
    "import torch\n",
    "import torch.nn as nn\n",
    "from torch.optim import Adam\n",
    "\n",
    "class NN_Network(nn.Module):\n",
    "    def __init__(self,in_dim,hid,out_dim):\n",
    "        super(NN_Network, self).__init__()\n",
    "        self.linear1 = nn.Linear(in_dim,hid)\n",
    "        self.linear2 = nn.Linear(hid,out_dim)\n",
    "        print(self.linear1.weight.shape)        \n",
    "        print(self.linear1.weight.data.shape)\n",
    "#         self.linear1.weight = torch.nn.Parameter(torch.zeros(in_dim,hid))\n",
    "#         self.linear1.bias = torch.nn.Parameter(torch.ones(hid))\n",
    "#         self.linear2.weight = torch.nn.Parameter(torch.zeros(in_dim,hid))\n",
    "#         self.linear2.bias = torch.nn.Parameter(torch.ones(hid))\n",
    "\n",
    "    def forward(self, input_array):\n",
    "        h = self.linear1(input_array)\n",
    "        y_pred = self.linear2(h)\n",
    "        return y_pred\n",
    "\n",
    "in_d = 5\n",
    "hidn = 2\n",
    "out_d = 3\n",
    "net = NN_Network(in_d, hidn, out_d)\n",
    "\n",
    "for param in net.parameters():\n",
    "    print(type(param.data), param.size())\n",
    "    \n",
    "    \n",
    "    \n",
    "    "
   ]
  }
 ],
 "metadata": {
  "kernelspec": {
   "display_name": "Python [default]",
   "language": "python",
   "name": "python3"
  },
  "language_info": {
   "codemirror_mode": {
    "name": "ipython",
    "version": 3
   },
   "file_extension": ".py",
   "mimetype": "text/x-python",
   "name": "python",
   "nbconvert_exporter": "python",
   "pygments_lexer": "ipython3",
   "version": "3.6.8"
  }
 },
 "nbformat": 4,
 "nbformat_minor": 2
}
