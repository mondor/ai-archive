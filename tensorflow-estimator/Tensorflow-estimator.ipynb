{
 "cells": [
  {
   "cell_type": "code",
   "execution_count": 1,
   "metadata": {
    "scrolled": true
   },
   "outputs": [],
   "source": [
    "import tensorflow as tf\n",
    "import numpy as np"
   ]
  },
  {
   "cell_type": "code",
   "execution_count": 2,
   "metadata": {
    "scrolled": true
   },
   "outputs": [
    {
     "name": "stdout",
     "output_type": "stream",
     "text": [
      "INFO:tensorflow:Using default config.\n",
      "INFO:tensorflow:Using config: {'_model_dir': './output', '_tf_random_seed': None, '_save_summary_steps': 100, '_save_checkpoints_steps': None, '_save_checkpoints_secs': 600, '_session_config': None, '_keep_checkpoint_max': 5, '_keep_checkpoint_every_n_hours': 10000, '_log_step_count_steps': 100, '_train_distribute': None, '_service': None, '_cluster_spec': <tensorflow.python.training.server_lib.ClusterSpec object at 0x1829469978>, '_task_type': 'worker', '_task_id': 0, '_global_id_in_cluster': 0, '_master': '', '_evaluation_master': '', '_is_chief': True, '_num_ps_replicas': 0, '_num_worker_replicas': 1}\n",
      "INFO:tensorflow:Calling model_fn.\n",
      "INFO:tensorflow:Done calling model_fn.\n",
      "INFO:tensorflow:Create CheckpointSaverHook.\n",
      "INFO:tensorflow:Graph was finalized.\n",
      "INFO:tensorflow:Restoring parameters from ./output/model.ckpt-2500\n",
      "INFO:tensorflow:Running local_init_op.\n",
      "INFO:tensorflow:Done running local_init_op.\n",
      "INFO:tensorflow:Saving checkpoints for 2501 into ./output/model.ckpt.\n",
      "INFO:tensorflow:loss = 0.00051266415, step = 2501\n",
      "INFO:tensorflow:global_step/sec: 623.76\n",
      "INFO:tensorflow:loss = 1.024728e-05, step = 2601 (0.163 sec)\n",
      "INFO:tensorflow:global_step/sec: 902.902\n",
      "INFO:tensorflow:loss = 6.205031e-05, step = 2701 (0.113 sec)\n",
      "INFO:tensorflow:global_step/sec: 1190.22\n",
      "INFO:tensorflow:loss = 0.00020373554, step = 2801 (0.081 sec)\n",
      "INFO:tensorflow:global_step/sec: 1176.36\n",
      "INFO:tensorflow:loss = 9.307902e-05, step = 2901 (0.087 sec)\n",
      "INFO:tensorflow:global_step/sec: 1079.67\n",
      "INFO:tensorflow:loss = 0.000114080016, step = 3001 (0.090 sec)\n",
      "INFO:tensorflow:global_step/sec: 1070.05\n",
      "INFO:tensorflow:loss = 7.9879115e-05, step = 3101 (0.094 sec)\n",
      "INFO:tensorflow:global_step/sec: 1260.51\n",
      "INFO:tensorflow:loss = 2.1201566e-05, step = 3201 (0.079 sec)\n",
      "INFO:tensorflow:global_step/sec: 1202.43\n",
      "INFO:tensorflow:loss = 5.258507e-05, step = 3301 (0.084 sec)\n",
      "INFO:tensorflow:global_step/sec: 1152.86\n",
      "INFO:tensorflow:loss = 3.6724752e-05, step = 3401 (0.087 sec)\n",
      "INFO:tensorflow:global_step/sec: 614.753\n",
      "INFO:tensorflow:loss = 4.665615e-06, step = 3501 (0.162 sec)\n",
      "INFO:tensorflow:global_step/sec: 1168.18\n",
      "INFO:tensorflow:loss = 9.510313e-06, step = 3601 (0.086 sec)\n",
      "INFO:tensorflow:global_step/sec: 888.33\n",
      "INFO:tensorflow:loss = 6.4391184e-06, step = 3701 (0.114 sec)\n",
      "INFO:tensorflow:global_step/sec: 863.319\n",
      "INFO:tensorflow:loss = 4.0396935e-06, step = 3801 (0.117 sec)\n",
      "INFO:tensorflow:global_step/sec: 1062.52\n",
      "INFO:tensorflow:loss = 3.3802735e-06, step = 3901 (0.092 sec)\n",
      "INFO:tensorflow:global_step/sec: 1122.84\n",
      "INFO:tensorflow:loss = 2.6048435e-06, step = 4001 (0.088 sec)\n",
      "INFO:tensorflow:global_step/sec: 855.162\n",
      "INFO:tensorflow:loss = 1.3693298e-06, step = 4101 (0.118 sec)\n",
      "INFO:tensorflow:global_step/sec: 775.206\n",
      "INFO:tensorflow:loss = 4.768201e-07, step = 4201 (0.129 sec)\n",
      "INFO:tensorflow:global_step/sec: 805.081\n",
      "INFO:tensorflow:loss = 4.1339376e-07, step = 4301 (0.124 sec)\n",
      "INFO:tensorflow:global_step/sec: 980.903\n",
      "INFO:tensorflow:loss = 4.011281e-08, step = 4401 (0.101 sec)\n",
      "INFO:tensorflow:global_step/sec: 959.6\n",
      "INFO:tensorflow:loss = 4.2875445e-07, step = 4501 (0.104 sec)\n",
      "INFO:tensorflow:global_step/sec: 773.6\n",
      "INFO:tensorflow:loss = 4.3960114e-07, step = 4601 (0.130 sec)\n",
      "INFO:tensorflow:global_step/sec: 923.292\n",
      "INFO:tensorflow:loss = 6.3671587e-07, step = 4701 (0.108 sec)\n",
      "INFO:tensorflow:global_step/sec: 888.716\n",
      "INFO:tensorflow:loss = 1.8911015e-07, step = 4801 (0.112 sec)\n",
      "INFO:tensorflow:global_step/sec: 842.395\n",
      "INFO:tensorflow:loss = 8.3473424e-08, step = 4901 (0.118 sec)\n",
      "INFO:tensorflow:Saving checkpoints for 5000 into ./output/model.ckpt.\n",
      "INFO:tensorflow:Loss for final step: 8.7041485e-08.\n"
     ]
    },
    {
     "data": {
      "text/plain": [
       "<tensorflow.python.estimator.canned.linear.LinearRegressor at 0x18294696d8>"
      ]
     },
     "execution_count": 2,
     "metadata": {},
     "output_type": "execute_result"
    }
   ],
   "source": [
    "x_feature = tf.feature_column.numeric_column('f1')\n",
    "\n",
    "train_input_fn = tf.estimator.inputs.numpy_input_fn(\n",
    "    x={\"f1\": np.array([1., 2., 3., 4.])},\n",
    "    y=np.array([1.5, 3.5, 5.5, 7.5]),\n",
    "    batch_size=2,\n",
    "    num_epochs=None,\n",
    "    shuffle=True)\n",
    "\n",
    "test_input_fn = tf.estimator.inputs.numpy_input_fn(\n",
    "      x = {\"f1\": np.array([5., 6., 7.])},\n",
    "      y = np.array([9.5, 11.5, 13.5]),\n",
    "      num_epochs=1,\n",
    "      shuffle=False)\n",
    "\n",
    "samples = np.array([8., 9.])\n",
    "predict_input_fn = tf.estimator.inputs.numpy_input_fn(\n",
    "      x={\"f1\": samples},\n",
    "      num_epochs=1,\n",
    "      shuffle=False)\n",
    "\n",
    "regressor = tf.estimator.LinearRegressor(\n",
    "    feature_columns=[x_feature],\n",
    "    model_dir='./output'\n",
    ")\n",
    "\n",
    "regressor.train(input_fn=train_input_fn, steps=2500)\n"
   ]
  },
  {
   "cell_type": "code",
   "execution_count": 3,
   "metadata": {
    "scrolled": true
   },
   "outputs": [
    {
     "name": "stdout",
     "output_type": "stream",
     "text": [
      "INFO:tensorflow:Calling model_fn.\n",
      "INFO:tensorflow:Done calling model_fn.\n",
      "INFO:tensorflow:Starting evaluation at 2018-06-12-12:04:27\n",
      "INFO:tensorflow:Graph was finalized.\n",
      "INFO:tensorflow:Restoring parameters from ./output/model.ckpt-5000\n",
      "INFO:tensorflow:Running local_init_op.\n",
      "INFO:tensorflow:Done running local_init_op.\n",
      "INFO:tensorflow:Finished evaluation at 2018-06-12-12:04:27\n",
      "INFO:tensorflow:Saving dict for global step 5000: average_loss = 5.481722e-07, global_step = 5000, loss = 1.6445165e-06\n",
      "Average loss in testing: 0.0000\n"
     ]
    }
   ],
   "source": [
    "average_loss = regressor.evaluate(input_fn=test_input_fn)[\"average_loss\"]\n",
    "print(f\"Average loss in testing: {average_loss:.4f}\")"
   ]
  },
  {
   "cell_type": "code",
   "execution_count": 4,
   "metadata": {},
   "outputs": [
    {
     "name": "stdout",
     "output_type": "stream",
     "text": [
      "INFO:tensorflow:Calling model_fn.\n",
      "INFO:tensorflow:Done calling model_fn.\n",
      "INFO:tensorflow:Graph was finalized.\n",
      "INFO:tensorflow:Restoring parameters from ./output/model.ckpt-5000\n",
      "INFO:tensorflow:Running local_init_op.\n",
      "INFO:tensorflow:Done running local_init_op.\n",
      "8.0 -> 15.4988\n",
      "9.0 -> 17.4986\n"
     ]
    }
   ],
   "source": [
    "predictions = list(regressor.predict(input_fn=predict_input_fn))\n",
    "for input, p in zip(samples, predictions):\n",
    "    v  = p[\"predictions\"][0]\n",
    "    print(f\"{input} -> {v:.4f}\")\n"
   ]
  }
 ],
 "metadata": {
  "kernelspec": {
   "display_name": "Python [default]",
   "language": "python",
   "name": "python3"
  },
  "language_info": {
   "codemirror_mode": {
    "name": "ipython",
    "version": 3
   },
   "file_extension": ".py",
   "mimetype": "text/x-python",
   "name": "python",
   "nbconvert_exporter": "python",
   "pygments_lexer": "ipython3",
   "version": "3.6.4"
  }
 },
 "nbformat": 4,
 "nbformat_minor": 2
}
