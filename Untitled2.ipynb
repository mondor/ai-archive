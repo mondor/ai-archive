{
 "cells": [
  {
   "cell_type": "code",
   "execution_count": 5,
   "metadata": {},
   "outputs": [
    {
     "data": {
      "text/plain": [
       "TextBlob(\"Some feelings are indifferent. They are the finest letters and letters, some feelings are drawn with a smile or look, and maybe a heartbeat that you want\")"
      ]
     },
     "execution_count": 5,
     "metadata": {},
     "output_type": "execute_result"
    }
   ],
   "source": [
    "from textblob import TextBlob\n",
    "chinese_blob = TextBlob(u\"ﺐﻌﺿ ﺎﻠﻤﺷﺎﻋﺭ ﻻ ﺖﻗﺎﻟ ﻒﻬﻳ ﺃﺮﻗﻯ ﻢﻧ ﺮﺴﻣ ﺡﺭﻮﻓ ﻭﺮﺒﻃ ﺝ ﻢﻟ ﺐﻌﺿ ﺎﻠﻤﺷﺎﻋﺭ ﺕﺮﺴﻤﻫﺍ ﺈﺒﺘﺳﺎﻣﺓ ﺃﻭ ﻦﻇﺭﺓ ﻭﺮﺒﻣﺍ ﻦﺒﺿﺓ ﻞﻘﻠﺑ ﻦﺘﻤﻧﻯ ﺄﻧ ﻲﻛﻮﻧ ﺲﻌﻳﺩﺍ\")\n",
    "chinese_blob.translate(to='en')"
   ]
  }
 ],
 "metadata": {
  "kernelspec": {
   "display_name": "Python 3",
   "language": "python",
   "name": "python3"
  },
  "language_info": {
   "codemirror_mode": {
    "name": "ipython",
    "version": 3
   },
   "file_extension": ".py",
   "mimetype": "text/x-python",
   "name": "python",
   "nbconvert_exporter": "python",
   "pygments_lexer": "ipython3",
   "version": "3.7.4"
  }
 },
 "nbformat": 4,
 "nbformat_minor": 2
}
