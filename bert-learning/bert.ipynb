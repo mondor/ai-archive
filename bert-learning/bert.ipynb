{
 "cells": [
  {
   "cell_type": "code",
   "execution_count": 5,
   "metadata": {
    "scrolled": true
   },
   "outputs": [
    {
     "name": "stdout",
     "output_type": "stream",
     "text": [
      "Done  loading:  ./ms-cntk-atis/atis.train.pkl\n",
      "      samples: 4978\n",
      "   vocab_size:  943\n",
      "   slot count:  129\n",
      " intent count:   26\n",
      "Query text: BOS show me ground transportation in philadelphia on monday morning EOS\n",
      "Query vector:  [178 770 581 457 866 482 678 654 601 606 179]\n",
      "Intent label:  ground_service\n",
      "Slot text:  O O O O O O B-city_name O B-day_name B-period_of_day O\n",
      "Slot vector:  [128, 128, 128, 128, 128, 128, 17, 128, 22, 57, 128]\n",
      "**************************************************************************\n",
      "Query text: BOS does twa have a flight from indianapolis to houston arriving at 11 am EOS\n",
      "Query vector:  [178 376 877 463 180 428 444 489 851 476 238 240  24 210 179]\n",
      "Intent label:  flight\n",
      "Slot text:  O O B-airline_code O O O O B-fromloc.city_name O B-toloc.city_name O O B-arrive_time.time I-arrive_time.time O\n",
      "Slot vector:  [128, 128, 1, 128, 128, 128, 128, 48, 128, 78, 128, 128, 14, 89, 128]\n",
      "**************************************************************************\n",
      "Query text: BOS what are all flights from boston to pittsburgh on wednesdays EOS\n",
      "Query vector:  [178 916 228 207 429 444 266 851 682 654 909 179]\n",
      "Intent label:  flight\n",
      "Slot text:  O O O O O O B-fromloc.city_name O B-toloc.city_name O B-depart_date.day_name O\n",
      "Slot vector:  [128, 128, 128, 128, 128, 128, 48, 128, 78, 128, 26, 128]\n",
      "**************************************************************************\n",
      "Query text: BOS show me flights with first class reservations from san francisco to pittsburgh for monday EOS\n",
      "Query vector:  [178 770 581 429 925 425 302 723 444 739 440 851 682 435 601 179]\n",
      "Intent label:  flight\n",
      "Slot text:  O O O O O B-class_type I-class_type O O B-fromloc.city_name I-fromloc.city_name O B-toloc.city_name O B-depart_date.day_name O\n",
      "Slot vector:  [128, 128, 128, 128, 128, 18, 92, 128, 128, 48, 110, 128, 78, 128, 26, 128]\n",
      "**************************************************************************\n",
      "Query text: BOS what is the first flight that travels from atlanta to baltimore that serves lunch EOS\n",
      "Query vector:  [178 916 498 827 425 428 826 869 444 242 851 247 826 758 569 179]\n",
      "Intent label:  flight\n",
      "Slot text:  O O O O B-flight_mod O O O O B-fromloc.city_name O B-toloc.city_name O O B-meal_description O\n",
      "Slot vector:  [128, 128, 128, 128, 42, 128, 128, 128, 128, 48, 128, 78, 128, 128, 53, 128]\n",
      "**************************************************************************\n",
      "Done  loading:  ./ms-cntk-atis/atis.test.pkl\n",
      "      samples:  893\n",
      "   vocab_size:  943\n",
      "   slot count:  129\n",
      " intent count:   26\n",
      "Query text: BOS which flights are available from tacoma to san jose in the morning on april twenty second EOS\n",
      "Query vector:  [178 920 429 228 244 444 810 851 739 506 482 827 606 654 227 881 753 179]\n",
      "Intent label:  flight\n",
      "Slot text:  O O O O O O B-fromloc.city_name O B-toloc.city_name I-toloc.city_name O O B-depart_time.period_of_day O B-depart_date.month_name B-depart_date.day_number I-depart_date.day_number O\n",
      "Slot vector:  [128, 128, 128, 128, 128, 128, 48, 128, 78, 125, 128, 128, 33, 128, 28, 27, 95, 128]\n",
      "**************************************************************************\n",
      "Query text: BOS list early morning flights from cincinnati to tampa EOS\n",
      "Query vector:  [178 549 388 606 429 444 299 851 816 179]\n",
      "Intent label:  flight\n",
      "Slot text:  O O B-depart_time.period_of_day B-depart_time.period_of_day O O B-fromloc.city_name O B-toloc.city_name O\n",
      "Slot vector:  [128, 128, 33, 33, 128, 128, 48, 128, 78, 128]\n",
      "**************************************************************************\n",
      "Query text: BOS list flights from baltimore to san francisco on friday EOS\n",
      "Query vector:  [178 549 429 444 247 851 739 440 654 441 179]\n",
      "Intent label:  flight\n",
      "Slot text:  O O O O B-fromloc.city_name O B-toloc.city_name I-toloc.city_name O B-depart_date.day_name O\n",
      "Slot vector:  [128, 128, 128, 128, 48, 128, 78, 125, 128, 26, 128]\n",
      "**************************************************************************\n",
      "Query text: BOS how many northwest flights leave st. paul EOS\n",
      "Query vector:  [178 477 575 634 429 537 789 673 179]\n",
      "Intent label:  flight\n",
      "Slot text:  O O O B-airline_name O O B-fromloc.city_name I-fromloc.city_name O\n",
      "Slot vector:  [128, 128, 128, 2, 128, 128, 48, 110, 128]\n",
      "**************************************************************************\n",
      "Query text: BOS please list ground transportation from ewr into new york city EOS\n",
      "Query vector:  [178 688 549 457 866 444 405 497 619 937 301 179]\n",
      "Intent label:  ground_service\n",
      "Slot text:  O O O O O O B-airport_code O B-city_name I-city_name I-city_name O\n",
      "Slot vector:  [128, 128, 128, 128, 128, 128, 3, 128, 17, 91, 91, 128]\n",
      "**************************************************************************\n"
     ]
    }
   ],
   "source": [
    "# tutorial for https://towardsdatascience.com/bert-for-dummies-step-by-step-tutorial-fb90890ffe03 \n",
    "\n",
    "import os\n",
    "import pickle\n",
    "import numpy as np\n",
    "\n",
    "\n",
    "\n",
    "DATA_DIR=\"./ms-cntk-atis\"\n",
    "\n",
    "# load Pickle file \n",
    "def load_ds(fname=os.path.join(DATA_DIR,'/atis.train.pkl'), verbose=True):\n",
    "    with open(fname, 'rb') as stream:\n",
    "        ds,dicts = pickle.load(stream)\n",
    "    if verbose:\n",
    "        print('Done  loading: ', fname)\n",
    "        print('      samples: {:4d}'.format(len(ds['query'])))\n",
    "        print('   vocab_size: {:4d}'.format(len(dicts['token_ids'])))\n",
    "        print('   slot count: {:4d}'.format(len(dicts['slot_ids'])))\n",
    "        print(' intent count: {:4d}'.format(len(dicts['intent_ids'])))\n",
    "    return ds,dicts\n",
    "  \n",
    "# convert Pickle file to arrays\n",
    "def load_atis(filename, add_start_end_token=False, verbose=True):\n",
    "    train_ds, dicts = load_ds(os.path.join(DATA_DIR,filename), verbose)\n",
    "    t2i, s2i, in2i = map(dicts.get, ['token_ids', 'slot_ids','intent_ids'])\n",
    "    i2t, i2s, i2in = map(lambda d: {d[k]:k for k in d.keys()}, [t2i,s2i,in2i])\n",
    "    query, slots, intent =  map(train_ds.get, ['query', 'slot_labels', 'intent_labels'])\n",
    "\n",
    "    if add_start_end_token:\n",
    "        i2s[178] = 'BOS'\n",
    "        i2s[179] = 'EOS'\n",
    "        s2i['BOS'] = 178\n",
    "        s2i['EOS'] = 179\n",
    "\n",
    "    input_tensor = []\n",
    "    target_tensor = []\n",
    "    query_data = []\n",
    "    intent_data = []\n",
    "    slot_data = []\n",
    "    to_show = np.random.randint(0, len(query)-1, 5)\n",
    "    for i in range(len(query)):\n",
    "        input_tensor.append(query[i])\n",
    "        slot_text = []\n",
    "        slot_vector = []\n",
    "        for j in range(len(query[i])):\n",
    "            slot_text.append(i2s[slots[i][j]])\n",
    "            slot_vector.append(slots[i][j])\n",
    "        if add_start_end_token:\n",
    "            slot_text[0] = 'BOS'\n",
    "            slot_vector[0] = 178\n",
    "            slot_text[-1] = 'EOS'\n",
    "            slot_vector[-1]= 179\n",
    "        target_tensor.append(slot_vector)\n",
    "        q = ' '.join(map(i2t.get, query[i]))\n",
    "        query_data.append(q.replace('BOS', '').replace('EOS',''))\n",
    "        intent_data.append(i2in[intent[i][0]])\n",
    "        slot = ' '.join(slot_text)\n",
    "        slot_data.append(slot[1:-1])\n",
    "        if i in to_show and verbose:\n",
    "            print('Query text:', q)\n",
    "            print('Query vector: ', query[i])\n",
    "            print('Intent label: ', i2in[intent[i][0]])\n",
    "            print('Slot text: ', slot)\n",
    "            print('Slot vector: ', slot_vector)\n",
    "            print('*'*74)\n",
    "    query_data = np.array(query_data)\n",
    "    intent_data = np.array(intent_data)\n",
    "    slot_data = np.array(slot_data)\n",
    "    intent_data_label = np.array(intent).flatten()\n",
    "    return t2i, s2i, in2i, i2t, i2s, i2in, input_tensor, target_tensor, query_data, intent_data, intent_data_label, slot_data\n",
    "\n",
    "# load ATIS training dataset\n",
    "t2i_train, s2i_train, in2i_train, i2t_train, i2s_train, i2in_train, \\\n",
    "input_tensor_train, target_tensor_train, \\\n",
    "query_data_train, intent_data_train, intent_data_label_train, slot_data_train = load_atis('atis.train.pkl')\n",
    "\n",
    "# load ATIS testing dataset\n",
    "t2i_test, s2i_test, in2i_test, i2t_test, i2s_test, i2in_test, \\\n",
    "input_tensor_test, target_tensor_test, \\\n",
    "query_data_test, intent_data_test, intent_data_label_test, slot_data_test = load_atis('atis.test.pkl')"
   ]
  },
  {
   "cell_type": "code",
   "execution_count": 18,
   "metadata": {},
   "outputs": [
    {
     "data": {
      "text/plain": [
       "(943, 129)"
      ]
     },
     "execution_count": 18,
     "metadata": {},
     "output_type": "execute_result"
    }
   ],
   "source": [
    "def get_vocab_size(t2i_train, t2i_test, s2i_train, s2i_test):\n",
    "    vocab_in_size = len({**t2i_train, **t2i_test})\n",
    "    vocab_out_size = len({**s2i_train, **s2i_test})\n",
    "    return vocab_in_size, vocab_out_size\n",
    "  \n",
    "vocab_in_size, vocab_out_size = get_vocab_size(t2i_train, t2i_test, s2i_train, s2i_test)\n",
    "vocab_in_size, vocab_out_size"
   ]
  },
  {
   "cell_type": "code",
   "execution_count": 10,
   "metadata": {
    "scrolled": true
   },
   "outputs": [
    {
     "data": {
      "image/png": "[encoded data removed]",
      "text/plain": [
       "<Figure size 432x288 with 1 Axes>"
      ]
     },
     "metadata": {
      "needs_background": "light"
     },
     "output_type": "display_data"
    }
   ],
   "source": [
    "import matplotlib.pyplot as plt\n",
    "%matplotlib inline\n",
    "labels = intent_data_label_train\n",
    "plt.hist(labels)\n",
    "plt.xlabel('intent')\n",
    "plt.ylabel('nb samples')\n",
    "plt.title('intent distribution')\n",
    "plt.xticks(np.arange(len(np.unique(labels))));"
   ]
  },
  {
   "cell_type": "code",
   "execution_count": 12,
   "metadata": {},
   "outputs": [],
   "source": [
    "import tensorflow as tf"
   ]
  },
  {
   "cell_type": "code",
   "execution_count": 20,
   "metadata": {},
   "outputs": [],
   "source": [
    "def max_length(tensor):\n",
    "    return max(len(t) for t in tensor)\n",
    "\n",
    "# Helper function to pad the query tensor and slot (target) tensor to the same length. \n",
    "# Also creates a tensor for teacher forcing.\n",
    "def create_tensors(input_tensor, target_tensor, nb_sample=9999999, max_len=0):\n",
    "    len_input, len_target  = max_length(input_tensor), max_length(target_tensor)\n",
    "    len_input = max(len_input,max_len)\n",
    "    len_target = max(len_target,max_len)\n",
    "    \n",
    "\n",
    "    # Padding the input and output tensor to the maximum length\n",
    "    input_data = tf.keras.preprocessing.sequence.pad_sequences(input_tensor, \n",
    "                                                                 maxlen=len_input,\n",
    "                                                                 padding='post')\n",
    "\n",
    "    teacher_data = tf.keras.preprocessing.sequence.pad_sequences(target_tensor, \n",
    "                                                                  maxlen=len_target , \n",
    "                                                                  padding='post')\n",
    "    \n",
    "    target_data = [[teacher_data[n][i+1] for i in range(len(teacher_data[n])-1)] for n in range(len(teacher_data))]\n",
    "    target_data = tf.keras.preprocessing.sequence.pad_sequences(target_data, maxlen=len_target, padding=\"post\")\n",
    "    target_data = target_data.reshape((target_data.shape[0], target_data.shape[1], 1))\n",
    "    \n",
    "    nb = len(input_data)\n",
    "    p = np.random.permutation(nb)\n",
    "    input_data = input_data[p]\n",
    "    teacher_data = teacher_data[p]\n",
    "    target_data = target_data[p]\n",
    "\n",
    "    return input_data[:min(nb_sample, nb)], teacher_data[:min(nb_sample, nb)], target_data[:min(nb_sample, nb)], len_input, len_target \n",
    "           \n",
    "input_data_train, teacher_data_train, target_data_train, \\\n",
    "                  len_input_train, len_target_train  = create_tensors(input_tensor_train, target_tensor_train)\n",
    "input_data_test, teacher_data_test, target_data_test, \\\n",
    "                 len_input_test, len_target_test  = create_tensors(input_tensor_test, target_tensor_test, max_len=len_input_train)"
   ]
  },
  {
   "cell_type": "code",
   "execution_count": 15,
   "metadata": {},
   "outputs": [],
   "source": [
    "from tensorflow.keras.models import Sequential\n",
    "\n",
    "model_lstm = Sequential()\n",
    "model_lstm.add(Embedding(vocab_in_size, embedding_dim, input_length=len_input_train))\n",
    "model_lstm.add(LSTM(units))\n",
    "model_lstm.add(Dense(nb_labels, activation='softmax'))\n",
    "model_lstm.compile(loss='categorical_crossentropy', optimizer='adam', metrics=['accuracy'])\n",
    "model_lstm.summary()"
   ]
  }
 ],
 "metadata": {
  "kernelspec": {
   "display_name": "Python 3",
   "language": "python",
   "name": "python3"
  },
  "language_info": {
   "codemirror_mode": {
    "name": "ipython",
    "version": 3
   },
   "file_extension": ".py",
   "mimetype": "text/x-python",
   "name": "python",
   "nbconvert_exporter": "python",
   "pygments_lexer": "ipython3",
   "version": "3.7.4"
  }
 },
 "nbformat": 4,
 "nbformat_minor": 2
}
